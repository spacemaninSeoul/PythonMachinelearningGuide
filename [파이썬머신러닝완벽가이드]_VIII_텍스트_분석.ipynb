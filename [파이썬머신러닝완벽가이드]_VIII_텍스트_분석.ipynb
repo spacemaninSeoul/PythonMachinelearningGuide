{
  "nbformat": 4,
  "nbformat_minor": 0,
  "metadata": {
    "colab": {
      "name": "[파이썬머신러닝완벽가이드] VIII. 텍스트 분석.ipynb",
      "provenance": [],
      "collapsed_sections": [
        "cV2jt-a0NnoF",
        "liXMc7CyUBPQ",
        "bup46EHtVgSN",
        "WaCDIUIdWT7J",
        "YFDyt04yXX8n",
        "sSU2WmnIXhiL",
        "wVTLscUPXzTC",
        "Cq20SayUadG8",
        "e1K9HgLQeAsu",
        "idMa1bZJ3LAV",
        "FOfHjyWt94hb",
        "fZWw-MYUArGN",
        "fT-ene2yB-C9",
        "KSiOLKN2Fhle",
        "ZIxW89AwIMqz",
        "dA5ZTvfoKCQA",
        "VYGxEE8QP3oa",
        "Ye3p5py-RkFi",
        "zyKLGiIGWimu",
        "lSrRnKD5WDdl",
        "Rce4-4GkIYVv"
      ],
      "toc_visible": true,
      "mount_file_id": "1gvB0gj0aNgpv8GnvrCAONo_CvBYzWgsI",
      "authorship_tag": "ABX9TyNVqBAeSf3SdIiHdYM0ZN6A",
      "include_colab_link": true
    },
    "kernelspec": {
      "name": "python3",
      "display_name": "Python 3"
    },
    "language_info": {
      "name": "python"
    }
  },
  "cells": [
    {
      "cell_type": "markdown",
      "metadata": {
        "id": "view-in-github",
        "colab_type": "text"
      },
      "source": [
        "<a href=\"https://colab.research.google.com/github/spacemaninSeoul/PythonMachinelearningGuide/blob/main/%5B%ED%8C%8C%EC%9D%B4%EC%8D%AC%EB%A8%B8%EC%8B%A0%EB%9F%AC%EB%8B%9D%EC%99%84%EB%B2%BD%EA%B0%80%EC%9D%B4%EB%93%9C%5D_VIII_%ED%85%8D%EC%8A%A4%ED%8A%B8_%EB%B6%84%EC%84%9D.ipynb\" target=\"_parent\"><img src=\"https://colab.research.google.com/assets/colab-badge.svg\" alt=\"Open In Colab\"/></a>"
      ]
    },
    {
      "cell_type": "markdown",
      "metadata": {
        "id": "FDBlcCDoLsLH"
      },
      "source": [
        "머신러닝이 보편화되면서 NLP(Natural Language Processing)와 텍스트 분석(Text Analytics, 이하 TA)을 구분하는 것이 큰 의미는 없어 보이지만, 굳이 구분하자면 NLP는 머신이 인간의 언어를 이해하고 해석하는 데 더 중점을 두고 기술이 발전해 왔으며, 텍스트 마이닝(Text Mining)이라고도 불리는 텍스트 분석은 비정형 텍스트에서 의미 있는 정보를 추출하는 것에 좀 더 중점을 두고 기술이 발전해 왔다.\n",
        "- **텍스트 분류(Text Classification)**: Text Catergorization이라고도 한다. 문서가 특정 분류 또는 카테고리에 속하는 것을 예측하는 기법을 통칭한다. 예를 들어 특정 신문 기사 내용이 연예/정치/사회/문화 중 어떤 카테고리에 속하는지 자동으로 분류하거나 스팸 메일 검출 같은 프로그램이 이에 속한다. 지도학습을 적용한다.\n",
        "- **감성 분석(Sentiment Analysis)**: 텍스트에서 나타나는 감정/판단/믿음/의견기분 등의 주관적인 요소를 분석하는 기법을 총칭한다. 소셜 미디어 감정 분석, 영화나 제품에 대한 긍정 또는 리뷰, 여론조사 의견 분석 등의 다양한 영역에서 활용된다. Text Analytics에서 가장 활발하게 사용되고 있는 분야이다. 지도학습 방법뿐만 아니라 비지도학습을 이용해 적용할 수 있다.\n",
        "- **텍스트 요약(Summarization)**: 텍스트 내에서 중요한 주제나 중심 사상을 추출하는 기법을 말한다. 대표적으로 토픽 모델링(Topic Modeling)이 있다.\n",
        "- **텍스트 군집화(Clustering)와 유사도 측정**: 비슷한 유형의 문서에 대해 군집화를 수행하는 기법을 말한다. 텍스트 분류를 비지도학습으로 수행하는 방법의 일환으로 사용될 수 있다. 유사도 측정 역시 문서들간의 유사도를 측정해 비슷한 문서끼리 모을 수 있는 방법이다."
      ]
    },
    {
      "cell_type": "markdown",
      "metadata": {
        "id": "cV2jt-a0NnoF"
      },
      "source": [
        "# 1. 텍스트 분석 이해\n",
        "\n",
        "**텍스트 분석**은 비정형 데이터인 텍스트를 분석하는 것이다. 지금까지 ML 모델은 주어진 정형 데이터 기반에서 모델을 수립하고 예측을 수행했다. 그리고 머신러닝 알고리즘은 숫자형의 피처 기반 데이터만 입력받을 수 있기 때문에 텍스트를 머신러닝에 적용하기 위해서는 비정형 텍스트 데이터를 어떻게 피처 형태로 추출하고 추출된 피처에 의미 있는 값을 부여하는가 하는 것이 매우 중요한 요소이다.\n",
        "\n",
        "텍스트를 word(또는 word의 일부분) 기반의 다수의 피처로 추출하고 이 피처에 단어 빈도수와 같은 숫자 값을 부여하면 텍스트는 단어의 조합인 벡터값으로 표현될 수 있는데, 이렇게 텍스트를 변환하는 것을 피처 벡터화(Feature Vectorization) 또는 피처 추출(Feature Extraction)이라고 한다. 텍스트를 벡터값을 가지는 피처로 변환하는 것은 머신러닝 모델을 적용하기 전에 수행해야 할 매우 중요한 요소이다.\n",
        "\n"
      ]
    },
    {
      "cell_type": "markdown",
      "metadata": {
        "id": "liXMc7CyUBPQ"
      },
      "source": [
        "## 1) 텍스트 분석 수행 프로세스\n",
        "\n",
        "머신러닝 기반의 텍스트 분석 프로세스는 다음과 같은 프로세스 순으로 수행한다.\n",
        " 1. **텍스트 사전 준비작업(텍스트 전처리)**: 텍스트를 피처로 만들기 전에 미리 클렌징, 대/소문자 변경, 특수문자 삭제 등의 클렌징 작업, 단어(Word) 등의 토큰화 작업, 의미 없는 단어(Stop word) 제거 작업, 어근 추출(Stemming/Lemmatization) 등의 텍스트 정규화 작업을 수행하는 것을 통칭한다.\n",
        " 2. **피처 벡터화/추출**: 사전 준비 작업으로 가공된 텍스트에서 피처를 추출하고 여기에 벡터 값을 할당한다. 대표적인 방법은 BOW와 Word2Vec이 있으며, BOW는 대표적으로 Count 기반과 TF-IDF 기반 벡터화가 있다.\n",
        " 3. **ML 모델 수립 및 학습/예측/평가**: 피처 벡터화된 데이터 세트에 ML 모델을 적용해 학습/예측 및 평가를 수행한다."
      ]
    },
    {
      "cell_type": "markdown",
      "metadata": {
        "id": "bup46EHtVgSN"
      },
      "source": [
        "## 2) 파이썬 기반의 NLP, 텍스트 분석 패키지\n",
        "\n",
        "대표적인 파이썬 기반의 NLP와 텍스트 분석 패키지를 소개한다.\n",
        "- **NLTK(Natural Language Toolkit for Python)**: 파이썬의 가장 대표적인 NLP 패키지이다. 방대한 데이터 세트와 서브 모듈을 가지고 있으며 NLP의 거의 모든 영역을 커버한다. 많은 NLP 패키지가 NLTK의 영향을 받아 작성되고 있다. 수행 속도 측면에서 아쉬운 부분이 있어서 실제 대량의 데이터 기반에서는 제대로 활용되지 못한다.\n",
        "- **Gensim**: 토픽 모델링 분야에서 가장 두각을 나타내는 패키지이다. 오래전부터 토픽 모델링을 쉽게 구현할 수 있는 기능을 제공해 왔으며, Word2Vec 구현 등의 다양한 신기능도 제공한다. SpaCy와 함께 가장 많이 사용되는 NLP 패키지이다.\n",
        "- **SpaCy**: 뛰어난 수행 성능으로 최근 가장 주목을 받는 NLP 패키지이다. 많은 NLP 애플리케이션에서 SpaCy를 사용하는 사례가 늘고 있다."
      ]
    },
    {
      "cell_type": "markdown",
      "metadata": {
        "id": "WaCDIUIdWT7J"
      },
      "source": [
        "# 2. 텍스트 사전 준비 작업(텍스트 전처리) - 텍스트 정규화\n",
        "\n",
        "**텍스트 정규화**는 텍스트를 머신러닝 알고리즘이나 NLP 애플리케이션에 입력 데이터로 사용하기 위해 클렌징, 정제, 토큰화, 어근화 등의 다양한 텍스트 데이터의 사전 작업을 수행하는 것을 의미한다.\n",
        "\n",
        "텍스트 정규화 작업은 크게 다음과 같이 분류할 수 있다.\n",
        " - 클렌징(Cleansing)\n",
        " - 토큰화(Tokenization)\n",
        " - 필터림/스톱 워드 제거/철자 수정\n",
        " - Stemming\n",
        " - Lemmatization\n",
        "\n",
        "텍스트 정규화의 주요 작업을 NLTK 패키지를 이용해 실습해보도록 한다.\n"
      ]
    },
    {
      "cell_type": "markdown",
      "metadata": {
        "id": "YFDyt04yXX8n"
      },
      "source": [
        "## 1) 클렌징\n",
        "\n",
        "텍스트에서 분석에 오히려 방해가 되는 불필요한 문자, 기호 등을 사전에 제거하는 작업이다. 예를 들어 HTML, XML 태그나 특정 기호 등을 사전에 제거한다."
      ]
    },
    {
      "cell_type": "markdown",
      "metadata": {
        "id": "sSU2WmnIXhiL"
      },
      "source": [
        "## 2) 텍스트 토큰화\n",
        "\n",
        "토큰화의 유형은 문서에서 문장을 분리하는 **문장 토큰화**와 문장에서 단어를 토큰으로 분리하는 **단어 토큰화**로 나눌 수 있다. NLTK는 이를 위해 다양한 API를 제공한다."
      ]
    },
    {
      "cell_type": "markdown",
      "metadata": {
        "id": "wVTLscUPXzTC"
      },
      "source": [
        "### (1) 문장 토큰화\n",
        "**문장 토큰화(sentence tokenization)**는 문장의 마침표(.), 개행문자(\\n) 등 문장의 마지막을 뜻하는 기호에 따라 분리하는 것이 일반적이다. 또한 정규 표현식에 따른 문장 토큰화도 가능하다. NTLK에서 일반적으로 많이 쓰이는 sent_tokenize를 이용해 토큰화를 수행해본다. 다음은 3개의 문장으로 이루어진 텍스트 문서를 문장으로 각각 분리하는 예제이다."
      ]
    },
    {
      "cell_type": "code",
      "metadata": {
        "colab": {
          "base_uri": "https://localhost:8080/"
        },
        "id": "7pe94hQLZXI7",
        "outputId": "13992ee3-ad40-4f4d-bf20-90890bae493a"
      },
      "source": [
        "from nltk import sent_tokenize\n",
        "import nltk\n",
        "nltk.download('punkt')\n",
        "\n",
        "text_sample = 'The Matrix is everywhere its all around us, here even in this room. \\\n",
        "You can see it out your window or on your television. \\\n",
        "You feel it when you go to work, or go to church or pay your taxes.'\n",
        "\n",
        "sentences = sent_tokenize(text=text_sample)\n",
        "print(type(sentences), len(sentences))\n",
        "print(sentences)"
      ],
      "execution_count": null,
      "outputs": [
        {
          "output_type": "stream",
          "name": "stdout",
          "text": [
            "[nltk_data] Downloading package punkt to /root/nltk_data...\n",
            "[nltk_data]   Package punkt is already up-to-date!\n",
            "<class 'list'> 3\n",
            "['The Matrix is everywhere its all around us, here even in this room.', 'You can see it out your window or on your television.', 'You feel it when you go to work, or go to church or pay your taxes.']\n"
          ]
        }
      ]
    },
    {
      "cell_type": "markdown",
      "metadata": {
        "id": "wGmmc4YVZ7NR"
      },
      "source": [
        "sent_tokenize( )가 반환하는 것은 각각의 문장으로 구성된 list 객체이다. "
      ]
    },
    {
      "cell_type": "markdown",
      "metadata": {
        "id": "Cq20SayUadG8"
      },
      "source": [
        "### (2) 단어 토큰화\n",
        "\n",
        "**단어 토큰화(Word Tokenization)**는 문장을 단어로 토큰화하는 것이다. 기본적으로 공백, 콤마(,), 마침표(.), 개행문자 등으로 단어를 분리하지만, 정규 표현식을 이용해 다양한 유형으로 토큰화를 수행할 수 있다.\n",
        "\n",
        "마침표(.)나 개행문자와 같이 문장을 분리하는 구분자를 이용해 단어를 토큰화할 수 있으므로 Bag of Word와 같이 단어의 순서가 중요하지 않은 경우 문장 토큰화를 사용하지 않고 단어 토큰화만 사용해도 충분하다. 일반적으로 문장 토큰화는 각 문장이 가지는 시맨틱적인 의미가 중요한 요소로 사용될 때 사용한다. NLTK에서 기본으로 제공하는 word_tokenize( )를 이용해 단어로 토큰화한다."
      ]
    },
    {
      "cell_type": "code",
      "metadata": {
        "colab": {
          "base_uri": "https://localhost:8080/"
        },
        "id": "S0Awitg7bAiM",
        "outputId": "7fd5123d-ce1f-4eed-badb-378ae0dfd065"
      },
      "source": [
        "from nltk import word_tokenize\n",
        "\n",
        "sentence = \"The Matrix is everywhere its all around us, here even in this room.\"\n",
        "words = word_tokenize(sentence)\n",
        "print(type(words), len(words))\n",
        "print(words)"
      ],
      "execution_count": null,
      "outputs": [
        {
          "output_type": "stream",
          "name": "stdout",
          "text": [
            "<class 'list'> 15\n",
            "['The', 'Matrix', 'is', 'everywhere', 'its', 'all', 'around', 'us', ',', 'here', 'even', 'in', 'this', 'room', '.']\n"
          ]
        }
      ]
    },
    {
      "cell_type": "markdown",
      "metadata": {
        "id": "ysY_hEiebPzY"
      },
      "source": [
        "이번에는 sent_tokenize와 word_tokenize를 조합해 문서에 대한 모든 단어를 토큰화해 본다."
      ]
    },
    {
      "cell_type": "code",
      "metadata": {
        "colab": {
          "base_uri": "https://localhost:8080/"
        },
        "id": "FfKfULwqbaeE",
        "outputId": "6e37e990-a99d-497f-f3e9-ce39ed76acda"
      },
      "source": [
        "from nltk import word_tokenize, sent_tokenize\n",
        "\n",
        "# 여러 개의 문장으로 된 입력 데이터를 문장별로 단어 토큰화하게 만드는 함수 생성\n",
        "def tokenize_text(text):\n",
        "  \n",
        "  # 문장별로 분리 토큰\n",
        "  sentences = sent_tokenize(text)\n",
        "  # 분리된 문장별 단어 토큰화\n",
        "  word_tokens = [word_tokenize(sentence) for sentence in sentences]\n",
        "  return word_tokens\n",
        "\n",
        "# 여러 문장에 대해 문장별 단어 토큰화 수행.\n",
        "word_tokens = tokenize_text(text_sample)\n",
        "print(type(word_tokens), len(word_tokens))\n",
        "print(word_tokens)"
      ],
      "execution_count": null,
      "outputs": [
        {
          "output_type": "stream",
          "name": "stdout",
          "text": [
            "<class 'list'> 3\n",
            "[['The', 'Matrix', 'is', 'everywhere', 'its', 'all', 'around', 'us', ',', 'here', 'even', 'in', 'this', 'room', '.'], ['You', 'can', 'see', 'it', 'out', 'your', 'window', 'or', 'on', 'your', 'television', '.'], ['You', 'feel', 'it', 'when', 'you', 'go', 'to', 'work', ',', 'or', 'go', 'to', 'church', 'or', 'pay', 'your', 'taxes', '.']]\n"
          ]
        }
      ]
    },
    {
      "cell_type": "markdown",
      "metadata": {
        "id": "n61rzebvdXzB"
      },
      "source": [
        "3개 문장을 문장별로 먼저 토큰화했으므로 word_tokens 변수는 3개의 리스트 객체를 내포하는 리스트이다. 그리고 내포된 개별 리스트 객체는 각각 문장별로 토큰화된 단어를 요소로 가지고 있다.\n",
        "\n",
        "문장을 단어별로 하나씩 토큰화 할 경우 문맥적인 의미는 무시될 수밖에 없다. 이러한 문제를 조금이라도 해결해 보고자 도입 된 것이 n-gram이다. **n-gram**은 연속된 n개의 단어를 하나의 토큰화 단위로 분리해 내는 것이다. n개 단어 크기 윈도우를 만들어 문장의 처음부터 오른쪽으로 움직이면서 토큰화를 수행한다. 예를 들어 \"Agent Smith Knocks the door\"를 2-gram(bigram)으로 만들면 (Agent, Smith), (Smith, knocks), (knocks, the), (the, door)와 같이 연속적으로 2개의 단어들을 순차적으로 이동하면서 단어들을 토큰화한다."
      ]
    },
    {
      "cell_type": "markdown",
      "metadata": {
        "id": "e1K9HgLQeAsu"
      },
      "source": [
        "## 3) 스톱워드 제거\n",
        "\n",
        "**스톱 워드(Stop word)**는 분석에 큰 의미가 없는 단어를 지칭한다. 가령 영어에서 is, the, a, will 등 문장을 구성하는 필수 문법 요소지만 문맥적으로 큰 의미가 없는 단어가 이에 해당한다. 이 단어의 경우 문법적 특성으로 인해 빈번하게 텍스트에 나타나므로 이것들을 사전에 제거하지 않으면 그 빈번함으로 인해 오히려 중요한 단어로 인지될 수 있다. 따라서 이 의미 없는 단어를 제거하는 것이 중요한 전처리 작업이다.\n",
        "\n",
        "언어별로 이러한 스톱 워드가 목록화돼 있다. NLTK의 경우 가장 다양한 언어의 스톱 워드를 제공한다. NLTK의 스톱 워드에는 어떤 것이 있는지 확인한다. 이를 위해 먼저 NLTK의 stopwords 목록을 내려받는다."
      ]
    },
    {
      "cell_type": "code",
      "metadata": {
        "colab": {
          "base_uri": "https://localhost:8080/"
        },
        "id": "2ePuWxZZgTi2",
        "outputId": "7b7208ca-f2d0-4824-94bb-a8ba7b62f9fc"
      },
      "source": [
        "import nltk\n",
        "nltk.download('stopwords')"
      ],
      "execution_count": null,
      "outputs": [
        {
          "output_type": "stream",
          "name": "stdout",
          "text": [
            "[nltk_data] Downloading package stopwords to /root/nltk_data...\n",
            "[nltk_data]   Package stopwords is already up-to-date!\n"
          ]
        },
        {
          "output_type": "execute_result",
          "data": {
            "text/plain": [
              "True"
            ]
          },
          "metadata": {},
          "execution_count": 5
        }
      ]
    },
    {
      "cell_type": "markdown",
      "metadata": {
        "id": "1p567thWgaJy"
      },
      "source": [
        "NLTK의 English의 경우 몇 개의 stopwords가 있는지 알아보고 그중 20개만 확인하도록 한다."
      ]
    },
    {
      "cell_type": "code",
      "metadata": {
        "colab": {
          "base_uri": "https://localhost:8080/"
        },
        "id": "If5yKoq3gijd",
        "outputId": "e092960f-7dda-4f42-d1cd-2b4480fc9012"
      },
      "source": [
        "print('영어 stop words 개수:', len(nltk.corpus.stopwords.words('english')))\n",
        "print(nltk.corpus.stopwords.words('english')[:20])"
      ],
      "execution_count": null,
      "outputs": [
        {
          "output_type": "stream",
          "name": "stdout",
          "text": [
            "영어 stop words 개수: 179\n",
            "['i', 'me', 'my', 'myself', 'we', 'our', 'ours', 'ourselves', 'you', \"you're\", \"you've\", \"you'll\", \"you'd\", 'your', 'yours', 'yourself', 'yourselves', 'he', 'him', 'his']\n"
          ]
        }
      ]
    },
    {
      "cell_type": "markdown",
      "metadata": {
        "id": "18K5R9QYg1Rz"
      },
      "source": [
        "위의 예제에서 3개의 문장별로 단어를 토큰화해 생성된 word_tokens 리스트(3개의 문장별 단어 토큰화 값을 가지는 내포된 리스트로 구성)에 대해서 stopwords를 필터링으로 제거해 분석을 위한 의미 있는 단어만 추출하도록 한다."
      ]
    },
    {
      "cell_type": "code",
      "metadata": {
        "colab": {
          "base_uri": "https://localhost:8080/"
        },
        "id": "-UFO71evg_ef",
        "outputId": "72728302-619e-4374-ccc7-717e7c8f6cad"
      },
      "source": [
        "import nltk\n",
        "\n",
        "stopwords = nltk.corpus.stopwords.words('english')\n",
        "all_tokens = []\n",
        "# 위 예제에서 3개의 문장별로 얻은 word_tokens list에 스톱 워드를 제거하는 반복문\n",
        "for sentence in word_tokens:\n",
        "  filtered_words=[]\n",
        "  # 개별 문장별로 토큰화된 문장 list에 대해 스톱 워드를 제거하는 반복문\n",
        "  for word in sentence:\n",
        "    # 소문자로 모두 변환한다.\n",
        "    word = word.lower()\n",
        "    # 토큰화된 개별 단어가 스톱 워드의 단어에 포함되지 않으면 word_tokens에 추가\n",
        "    if word not in stopwords:\n",
        "      filtered_words.append(word)\n",
        "  all_tokens.append(filtered_words)\n",
        "\n",
        "print(all_tokens)"
      ],
      "execution_count": null,
      "outputs": [
        {
          "output_type": "stream",
          "name": "stdout",
          "text": [
            "[['matrix', 'everywhere', 'around', 'us', ',', 'even', 'room', '.'], ['see', 'window', 'television', '.'], ['feel', 'go', 'work', ',', 'go', 'church', 'pay', 'taxes', '.']]\n"
          ]
        }
      ]
    },
    {
      "cell_type": "markdown",
      "metadata": {
        "id": "idMa1bZJ3LAV"
      },
      "source": [
        "## 4) Stemming과 Lemmatization\n",
        "\n",
        "**Stemming**과 **Lemmatization**은 문법적 또는 의미적으로 변화하는 단어의 원형을 찾는 것이다.\n",
        "\n",
        "두 기능 모두 원형 단어를 찾는다는 목적은 유사하지만, Lemmatization이 Stemming보다 더 정교하며 의미론적인 기반에서 단어의 원형을 찾는다. **Stemming**은 원형 단어로 변환 시 일반적인 방법을 적용하거나 더 단순화된 방법을 적용해 원래 단어에서 일부 철자가 훼손된 어근 단어를 추출하는 경향이 있다. 이에 반해 **Lemmatization**은 품사와 같은 문법적인 요소와 더 의미적인 부분을 감안해 정확한 철자로 된 어근 단어를 찾아준다. 따라서 Lemmatization이 Stemming보다 변환에 더 오랜 시간을 필요로 한다.\n",
        "\n",
        "다음에서 Stemming과 Lemmatization을 비교한다. 먼저 NLTK의 LancasterStemmer를 이용해 Stemmer부터 살펴본다. 진행형, 3인칭 단수, 과거형에 따른 동사, 그리고 비교, 최상에 따른 형용사의 변환에 따라 Stemming은 더 단순하게 원형 단어를 찾아준다. NLTK에서는 Lancaster( )와 같이 필요한 Stemmer 객체를 생성한 뒤 이 객체의 stem('단어') 메서드를 호출하면 원하는 '단어'의 Stemming이 가능하다."
      ]
    },
    {
      "cell_type": "code",
      "metadata": {
        "colab": {
          "base_uri": "https://localhost:8080/"
        },
        "id": "E2lEIr2t4asb",
        "outputId": "542b6f56-475c-4a2d-c651-22653b5914cb"
      },
      "source": [
        "from nltk.stem import LancasterStemmer\n",
        "stemmer = LancasterStemmer()\n",
        "\n",
        "print(stemmer.stem('working'), stemmer.stem('works'), stemmer.stem('worked'))\n",
        "print(stemmer.stem('amusing'), stemmer.stem('amuse'), stemmer.stem('amused'))\n",
        "print(stemmer.stem('happier'), stemmer.stem('happiest'))"
      ],
      "execution_count": null,
      "outputs": [
        {
          "output_type": "stream",
          "name": "stdout",
          "text": [
            "work work work\n",
            "amus amus amus\n",
            "happy happiest\n"
          ]
        }
      ]
    },
    {
      "cell_type": "markdown",
      "metadata": {
        "id": "rbEFrL8640-_"
      },
      "source": [
        "amuse의 경우 부정확한 원형 단어 인식을 보여준다. 또한 형용사인 happy의 경우에도 최상급형으로 변형된 단어의 정확한 원형을 찾지 못하는 모습을 보여준다."
      ]
    },
    {
      "cell_type": "markdown",
      "metadata": {
        "id": "zjQD9Exq6lMd"
      },
      "source": [
        "이번에는 **WordNetLemmatizer**를 이용해 Lemmatization을 수행해 본다. 일반적으로 Lemmatization은 보다 정확한 원형 단어 추출을 위해 단어의 '품사'를 입력해줘야 한다. 다음 예제에서 볼 수 있듯이 **lemmatize( )**의 파라미터로 동사의 경우 'v', 형용사의 경우 'a'를 입력한다."
      ]
    },
    {
      "cell_type": "code",
      "metadata": {
        "colab": {
          "base_uri": "https://localhost:8080/"
        },
        "id": "DIP1n0HS7e53",
        "outputId": "19fa6719-c07b-4b5f-8092-77fbcd0695ed"
      },
      "source": [
        "from nltk.stem import WordNetLemmatizer\n",
        "import nltk\n",
        "nltk.download('wordnet')\n",
        "\n",
        "lemma = WordNetLemmatizer()\n",
        "print(lemma.lemmatize('amusing', 'v'), lemma.lemmatize('amuses', 'v'), lemma.lemmatize('amused', 'v'))\n",
        "print(lemma.lemmatize('happier', 'a'), lemma.lemmatize('happiest', 'a'))\n",
        "print(lemma.lemmatize('fancier', 'a'), lemma.lemmatize('fanciest', 'a'))"
      ],
      "execution_count": null,
      "outputs": [
        {
          "output_type": "stream",
          "name": "stdout",
          "text": [
            "[nltk_data] Downloading package wordnet to /root/nltk_data...\n",
            "[nltk_data]   Package wordnet is already up-to-date!\n",
            "amuse amuse amuse\n",
            "happy happy\n",
            "fancy fancy\n"
          ]
        }
      ]
    },
    {
      "cell_type": "markdown",
      "metadata": {
        "id": "o3B2EKYj8XEc"
      },
      "source": [
        "앞의 Stemmer보다 정확하게 원형 단어를 추출해줌을 알 수 있다."
      ]
    },
    {
      "cell_type": "markdown",
      "metadata": {
        "id": "FOfHjyWt94hb"
      },
      "source": [
        "# 3. Bag of Words - BOW\n",
        "\n",
        "**Bag of Words 모델**은 문서가 가지는 모든 단어(Words)를 문맥이나 순서를 무시하고 일괄적으로 단어에 대해 빈도 값을 부여해 피처 값을 추출하는 모델이다.\n",
        "\n",
        "BOW 모델의 장점은 쉽고 빠른 구축에 있다.\n",
        "\n",
        "대표적인 단점은 다음과 같다.\n",
        " - **문맥 의미(Semantic Context) 반영 부족**: BOW는 단어의 순서를 고려하지 않기 때문에 문장 내에서 단어의 문맥적인 의미가 무시된다. 물론 이를 보완하기 위해 n_gram 기법을 활용할 수 있지만, 제한적인 부분에 그치므로 언어의 많은 부분을 차지하는 문맥적인 해석을 처리하지 못하는 단점이 있다.\n",
        " - **희소 행렬 문제(희소성, 희소 행렬)**: BOW로 피처 벡터화를 수행하면 희소 행렬 형태의 데이터 세트가 만들어지기 쉽다. 대규모의 칼럼으로 구성된 행렬에서 대부분의 값이 0으로 채워지는 행렬을 **희소 행렬(Sparse Matrix)**이라고 한다. 이와는 반대로 대부분의 값이 0이 아닌 의미 있는 값으로 채워져 있는 행렬을 **밀집 행렬(Dense Matrix)**라고 한다. 희소 행렬은 일반적으로 ML 알고리즘의 수행 시간과 예측 성능을 떨어뜨리기 때문에 희소 행렬을 위한 특별한 기법이 마련돼 있다."
      ]
    },
    {
      "cell_type": "markdown",
      "metadata": {
        "id": "fZWw-MYUArGN"
      },
      "source": [
        "## 1) BOW 피처 벡터화\n",
        "\n",
        "텍스트는 특정 의미를 가지는 숫자형 값인 벡터 값으로 변환해야 한다. 이러한 변환을 **피처 벡터화**라고 한다. 예를 들어 피처 벡터화는 각 문서(Document)의 텍스트를 단어로 추출해  피처로 할당하고, 각 단어의 발생 빈도와 같은 값을 이 피처에 값으로 부여해 각 문서를 이 단어 피처의 조합으로 변경하기 때문에 넓은 범위의 피처 추출에 포함한다(Text Analysis에서는 피처 벡터화와 피처 추출을 같은 의미로 사용하곤 한다).\n",
        "\n",
        "BOW 모델에서 피처 벡터화를 수행한다는 것은 모든 문서에서 모든 단어를 칼럼 형태로 나열하고 각 문서에서 해당 단어의 횟수나 정규화된 빈도를 값으로 부여하는 데이터 세트 모델로 변경하는 것이다. 예를 들어 M개의 텍스트 문서가 있고, 이 문서에서 모든 단어를 추출해 나열했을 때 N개의 단어가 있다고 가정하면 문서의 피처 벡터화를 수행하면 M개의 문서는 각각 N개의 값이 할당된 피처의 벡터 세트가 된다. 결과적으로는 M x N 개의 단어 피처로 이뤄진 행렬을 구성하게 된다.\n",
        "\n",
        "일반적으로 BOW의 피처 벡터화는 두 가지 방식이 있다.\n",
        " - 카운트 기반의 벡터화\n",
        " - TF-IDF(Term Frequency - Inverse Document Frequency) 기반의 벡터화\n",
        "\n",
        "단어 피처에 값을 부여할 때 각 문서에서 해당 단어가 나타나는 횟수, 즉 Count를 부여하는 경우를 **카운트 벡터화**라 한다. 여기서는 카운트 값이 높을수록 중요한 단어로 인식된다. 그러나 카운트만 부여할 경우 그 문서의 특징을 나타내기 보다는 언어의 특성상 문장에서 자주 사용될 수밖에 없는 단어까지 높은 값을 부여하게 된다.\n",
        "\n",
        "이러한 문제를 보완하기 위해 TF-IDF(Term Frequency Inverse Document Frequency) 벡터화를 사용한다. **TF-IDF**는 개별 문서에서 자주 나타나는 단어에 높은 가중치를 주되, 모든 문서에서 전반적으로 자주 나타나는 단어에 대해서는 페널티를 주는 방식으로 값을 부여한다.\n",
        "\n",
        "만일 어떤 문서에서 특정 단어가 자주 나타나면 그 단어는 해당 문서를 특정짓는 중요 단어일 수 있다. 하지만 그 단어가 다른 문서에서도 자주 나타난다면 해당 단어는 언어 특성상 범용적으로 자주 사용되는 단어일 수 있다. 따라서 모든 문서에서 반복적으로 자주 발생하는 단어에 대해서는 페널티를 부여하는 방식으로 단어에 대한 가중치의 균형을 맞추는 것이다.\n",
        "\n",
        "> TFIDFi = TFi * log(N / DFi)\n",
        "\n",
        "TFi = 개별 문서에서의 단어 i 빈도\n",
        "DFi = 단어 i를 가지고 있는 문서 개수\n",
        "N = 전체 문서 개수\n"
      ]
    },
    {
      "cell_type": "markdown",
      "metadata": {
        "id": "fT-ene2yB-C9"
      },
      "source": [
        "## 2) 사이킷런의 Count 및 TF-IDF 벡터화 구현: CountVectorizer, TfidfVectorizer\n",
        "\n",
        "사이킷런의 **CountVectorizer 클래스**는 카운트 기반의 벡터화를 구현한 클래스이다. 이 클래스는 단지 피처 벡터화만 수행하지는 않으며 소문자 일괄 변환, 토큰화, 스톱 워드 필터링 등의 텍스트 전처리도 함께 수행한다. 입력 파라미터는 다음과 같다.\n",
        " - max_df : 전체 문서에 걸쳐서 너무 높은 빈도수를 가지는 단어 피처를 제외하기 위한 파라미터이다. max_df = 100과 같이 정수 값을 가지만 전체 문서에 걸쳐서 100개 이하로 나타나는 단어만 피처로 추출한다. max_df = 0.95와 같이 부동소수점 값(0.0 ~ 1.0)을 가지면 전체 문서에 걸쳐 빈도수 0~95%까지의 단어만 피처로 추출하고 나머지 상위 5%는 피처로 추출하지 않는다.\n",
        " - min_Df : 전체 문서에 걸쳐서 너무 낮은 빈도수를 가지는 단어 피처를 제외하기 위한 파라미터. min_df = 2와 같이 정수 값을 가지면 전체 문서에 걸쳐서 2번 이하로 나타나는 단어는 피처로 추출하지 않는다. min_df = 0.02와 같이 부동소수점 값(0.0 ~ 1.0)을 가지면 전체 문서에 걸쳐서 하위 2% 이하의 빈도수를 가지는 단어는 피처로 추출하지 않는다.\n",
        " - max_features 추출하는 피처의 개수를 제한하며 정수로 값을 지정한다. 가령 max_features = 2000으로 지정할 경우 가장 높은 빈도를 가지는 단어 순으로 정렬해 2000개까지만 피처로 추출한다.\n",
        " - stop_words : 'english'로 지정하면 영어의 스톱 워드로 지정된 단어는 추출에서 제외한다.\n",
        " - n_gram_range : Bag of Words 모델의 단어 순서를 어느 정도 보강하기 위한 n_gram 범위를 설정한다. 튜플 형태로 (범위 최솟값, 범위 최댓값)을 지정한다. 예를 들어 (1, 1)로 지정하면 토큰화된 단어를 1개씩 피처로 추출한다. (1, 2)로 지정하면 토큰화된 단어를 1개씩(minimum 1), 그리고 순서대로 2개씩(maximum 2) 묶어서 피처로 추출한다.\n",
        " - analyzer : 피처 추출을 수행한 단위를 지정한다. 당연히 디폴트는 'word'이다.\n",
        " - token_pattern : 토큰화를 수행하는 정규 표현식 패턴을 지정한다. 디폴트 값은 '\\b\\w\\w+\\b'로 공백 또는 개행 문자 등으로 구분된 단어 분리자(\\b) 사이의 2문자(문자 또는 숫자, 즉 영숫자) 이상의 단어(word)를 토큰으로 분리한다. analyzer = 'word'로 설정했을 때만 변경 가능하나 디폴트 값을 변경할 경우는 거의 발생하지 않는다.\n",
        " - tokenizer : 토큰화를 별도의 커스텀 함수로 이용시 적용한다.\n",
        "\n",
        " 보통 사이킷런의 CountVectorizer 클래스를 이용해 카운트 기반의 피처 여러 개의 문서로 구성된 텍스트 피처 벡터화 방법은 다음과 같다.\n",
        "\n",
        " 첫째, 영어의 경우 모든 문자를 소문자로 변경하는 등의 전처리 작업을 수행한다. 둘째는 디폴트로 단어 기준으로 n_gram_range를 반영해 각 단어를 토큰화한다. 셋째, 텍스트 정규화를 수행한다."
      ]
    },
    {
      "cell_type": "markdown",
      "metadata": {
        "id": "KSiOLKN2Fhle"
      },
      "source": [
        "## 3) BOW 벡터화를 위한 희소 행렬\n",
        "\n",
        "사이킷런의 CounterVectorizer/TfidfVectorizer를 이용해 텍스트를 피처 단위로 벡터화해 변환하고 CSR 형태의 희소 행렬을 반환한다.\n",
        "\n",
        "대규모 행렬의 대부부의 값을 0이 차지하는 행렬을 가리켜 희소 행렬이라 한다. BOW 형태를 가진 언어 모델의 피처 벡터화는 대부분 희소 행렬이다. 이 희소 행렬은 너무 많은 불필요한 0 값이 메모리 공간에 할당되어 메모리 공간이 많이 필요하며, 행령릐 크기가 커서 연산 시에도 데이터 엑세스를 위한 시간이 많이 소모된다. 따라서 이러한 희소 행렬을 물리적으로 적은 메모리 공간을 차지할 수 있도록 변환해야 하는데, 대표적인 방법으로 COO 형식과 CSR 형식이 있다. 일반적으로 큰 희소 행렬을 저장하고 계산하는 수행하는 능력이 CSR 형식이 더 뛰어나기 때문에 CSR을 많이 사용한다.\n"
      ]
    },
    {
      "cell_type": "markdown",
      "metadata": {
        "id": "ZIxW89AwIMqz"
      },
      "source": [
        "## 4) 희소 행렬 - COO 형식\n",
        "\n",
        "**COO(Coordinate: 좌표) 형식**은 0이 아닌 데이터만 별도의 데이터 배열(Array)에 저장하고, 그 데이터가 가리키는 행과 열의 위치를 별도의 배열로 저장하는 방식이다. 예를 들어 [[3, 0, 1], [0, 2, 0]]과 같은 2차원 데이터가 있다고 가정한다. 0이 아닌 데이터는 [3, 1, 2]이며 0이 아닌 데이터가 있는 위치를 (row, col)로 표시하면 (0, 0), (0, 2), (1, 1)가 된다. 로우와 칼럼을 별도의 배열로 저장하면 로우는 [0, 0, 1]이고 칼럼은 [0, 2, 1]이다.\n",
        "\n",
        "파이썬에서는 희소 행렬 변환을 위해 주로 사이파이(Scipy)를 이용한다. 사이파이의 **sparse 패키지**는 희소 행렬 변환을 위한 다양한 모듈을 제공한다."
      ]
    },
    {
      "cell_type": "code",
      "metadata": {
        "id": "uwArtXTYI8Zl"
      },
      "source": [
        "import numpy as np\n",
        "dense = np.array([[3, 0, 1], [0, 2, 0]])"
      ],
      "execution_count": null,
      "outputs": []
    },
    {
      "cell_type": "markdown",
      "metadata": {
        "id": "SVF2Z51nJLZX"
      },
      "source": [
        "위의 밀집 행렬을 사이파이의 **coo_matrix** 클래스를 이용해 COO 형식의 희소 행렬로 변환해 본다. 0이 아닌 데이터를 별도의 배열 데이터로 만들고, 행 위치 배열과 열 위치 배열을 각각 만든 후 coo_matrix( ) 내에 생성 파라미터로 입력하면 된다."
      ]
    },
    {
      "cell_type": "code",
      "metadata": {
        "id": "SKqszuTZJa-y"
      },
      "source": [
        "from scipy import sparse\n",
        "\n",
        "# 0이 아닌 데이터 추출\n",
        "data = np.array([3, 1, 2])\n",
        "\n",
        "# 행 위치와 열 위치를 각각 배열로 생성\n",
        "row_pos = np.array([0, 0, 1])\n",
        "col_pos = np.array([0, 2, 1])\n",
        "\n",
        "# sparse 패키지의 coo_matrix를 이용해 COO 형식으로 희소 행렬 생성\n",
        "sparse_coo = sparse.coo_matrix((data, (row_pos, col_pos)))"
      ],
      "execution_count": null,
      "outputs": []
    },
    {
      "cell_type": "markdown",
      "metadata": {
        "id": "d9vtwdewJ2pN"
      },
      "source": [
        "sparse_coo는 COO 형식의 희소 행렬 객체 변수이다. 이를 toarray( ) 메서드를 이용해 다시 밀집 형태의 행렬로 출력한다."
      ]
    },
    {
      "cell_type": "code",
      "metadata": {
        "colab": {
          "base_uri": "https://localhost:8080/"
        },
        "id": "nN5qhsDDJ-Xz",
        "outputId": "1451870f-bcf9-4298-9491-a7d40ead4c4d"
      },
      "source": [
        "sparse_coo.toarray()"
      ],
      "execution_count": null,
      "outputs": [
        {
          "output_type": "execute_result",
          "data": {
            "text/plain": [
              "array([[3, 0, 1],\n",
              "       [0, 2, 0]])"
            ]
          },
          "metadata": {},
          "execution_count": 12
        }
      ]
    },
    {
      "cell_type": "markdown",
      "metadata": {
        "id": "dA5ZTvfoKCQA"
      },
      "source": [
        "## 5) 희소 행렬 - CSR 형식\n",
        "\n",
        "**CSR(Compressed Sparse Row) 형식**은 COO 형식이 행과 열의 위치를 나타내기 위해서 반복적인 위치 데이터를 사용해야 하는 문제점을 해결한 방식이다. CSR는 행 위치 배열 내에 있는 고유한 값의 시작 위치만 다시 별도의 위치 배열로 가지는 변환 방식을 의미한다.\n",
        "\n",
        "행 위치 배열 [0, 0, 1, 1, 1, 1, 1, 2, 2, 3, 4, 4, 5]를 CSR로 변환하면 [0, 2, 7, 9, 10, 12]가 된다. 그리고 맨 마지막에는 데이터의 총 항목 개수를 배열에 추가한다. 최종적으로 CSR 변환되는 배열은 [0, 2, 7, 9, 10, 12, 13]이다. 이렇게 고유 값의 시작 위치만 알고 있으면 얼마든지 행 위치 배열을 다시 만들 수 있기에 COO 방식보다 메모리가 적게 들고 빠른 연산이 가능하다.\n",
        "\n",
        "CSR 방식의 변환은 사이파이의 **csr_matrix 클래스**를 이용해 쉽게 할 수 있다. 0이 아닌 데이터 배열과 열 위치 배열, 그리고 행 위치 배열의 고유한 값의 시작 위치 배열을 csr_matrix의 생성 파라미터로 입력하면 된다."
      ]
    },
    {
      "cell_type": "code",
      "metadata": {
        "colab": {
          "base_uri": "https://localhost:8080/"
        },
        "id": "kpe1p0wKLKfB",
        "outputId": "55c5efa9-354d-4593-9bec-7cd3214141ee"
      },
      "source": [
        "from scipy import sparse\n",
        "\n",
        "dense2 = np.array([[0, 0, 1, 0, 0, 5],\n",
        "                   [1, 4, 0, 3, 2, 5],\n",
        "                   [0, 6, 0, 3, 0, 0],\n",
        "                   [2, 0, 0, 0, 0, 0],\n",
        "                   [0, 0, 0, 7, 0, 8],\n",
        "                   [1, 0, 0, 0, 0, 0]])\n",
        "\n",
        "# 0이 아닌 데이터 추출\n",
        "data2 = np.array([1, 5, 1, 4, 3, 2, 5, 6, 3, 2, 7, 8, 1])\n",
        "\n",
        "# 행 위치와 열 위치를 각각 array로 생성\n",
        "row_pos = np.array([0, 0, 1, 1, 1, 1, 1, 2, 2, 3, 4, 4, 5])\n",
        "col_pos = np.array([2, 5, 0, 1, 3, 4, 5, 1, 3, 0, 3, 5, 0])\n",
        "\n",
        "# COO 형식으로 변환\n",
        "sparse_coo = sparse.coo_matrix((data2, (row_pos, col_pos)))\n",
        "\n",
        "# 행 위치 배열의 고유한 값의 시작 위치 인덱스를 배열로 생성\n",
        "row_pos_ind = np.array([0, 2, 7, 9, 10, 12, 13])\n",
        "\n",
        "# CSR 형식으로 변환\n",
        "sparse_csr = sparse.csr_matrix((data2, col_pos, row_pos_ind))\n",
        "\n",
        "print('COO 변환된 데이터가 제대로 되었는지 다시 Dense로 출력 확인')\n",
        "print(sparse_coo.toarray())\n",
        "print('CSR 변환된 데이터가 제대로 되었는지 다시 Dense로 출력 확인')\n",
        "print(sparse_csr.toarray())"
      ],
      "execution_count": null,
      "outputs": [
        {
          "output_type": "stream",
          "name": "stdout",
          "text": [
            "COO 변환된 데이터가 제대로 되었는지 다시 Dense로 출력 확인\n",
            "[[0 0 1 0 0 5]\n",
            " [1 4 0 3 2 5]\n",
            " [0 6 0 3 0 0]\n",
            " [2 0 0 0 0 0]\n",
            " [0 0 0 7 0 8]\n",
            " [1 0 0 0 0 0]]\n",
            "CSR 변환된 데이터가 제대로 되었는지 다시 Dense로 출력 확인\n",
            "[[0 0 1 0 0 5]\n",
            " [1 4 0 3 2 5]\n",
            " [0 6 0 3 0 0]\n",
            " [2 0 0 0 0 0]\n",
            " [0 0 0 7 0 8]\n",
            " [1 0 0 0 0 0]]\n"
          ]
        }
      ]
    },
    {
      "cell_type": "markdown",
      "metadata": {
        "id": "QPEefFZ8Mbnw"
      },
      "source": [
        "실제 사용 시에는 다음고 ㅏ같이 밀집 행렬을 생성 파라미터로 입력하면 COO나 CSR 희소 행렬로 생성한다."
      ]
    },
    {
      "cell_type": "code",
      "metadata": {
        "colab": {
          "base_uri": "https://localhost:8080/"
        },
        "id": "aSPT9rRjMf4K",
        "outputId": "b4374810-90bc-48a4-ceca-20daab1d74ba"
      },
      "source": [
        "dense2 = np.array([[0, 0, 1, 0, 0, 5],\n",
        "                   [1, 4, 0, 3, 2, 5],\n",
        "                   [0, 6, 0, 3, 0, 0],\n",
        "                   [2, 0, 0, 0, 0, 0],\n",
        "                   [0, 0, 0, 7, 0, 8],\n",
        "                   [1, 0, 0, 0, 0, 0]])\n",
        "\n",
        "coo = sparse.coo_matrix(dense2)\n",
        "csr = sparse.csr_matrix(dense2)\n",
        "\n",
        "print(coo)\n",
        "print()\n",
        "print(csr)"
      ],
      "execution_count": null,
      "outputs": [
        {
          "output_type": "stream",
          "name": "stdout",
          "text": [
            "  (0, 2)\t1\n",
            "  (0, 5)\t5\n",
            "  (1, 0)\t1\n",
            "  (1, 1)\t4\n",
            "  (1, 3)\t3\n",
            "  (1, 4)\t2\n",
            "  (1, 5)\t5\n",
            "  (2, 1)\t6\n",
            "  (2, 3)\t3\n",
            "  (3, 0)\t2\n",
            "  (4, 3)\t7\n",
            "  (4, 5)\t8\n",
            "  (5, 0)\t1\n",
            "\n",
            "  (0, 2)\t1\n",
            "  (0, 5)\t5\n",
            "  (1, 0)\t1\n",
            "  (1, 1)\t4\n",
            "  (1, 3)\t3\n",
            "  (1, 4)\t2\n",
            "  (1, 5)\t5\n",
            "  (2, 1)\t6\n",
            "  (2, 3)\t3\n",
            "  (3, 0)\t2\n",
            "  (4, 3)\t7\n",
            "  (4, 5)\t8\n",
            "  (5, 0)\t1\n"
          ]
        }
      ]
    },
    {
      "cell_type": "markdown",
      "metadata": {
        "id": "8goaWfmKMvg4"
      },
      "source": [
        "사이킷런의 CountVectorizer나 TfidfVectorizer 클래스로 변환된 피처 벡터화 행렬은 모두 사이파이의 CSR 형태의 희소 행렬이다."
      ]
    },
    {
      "cell_type": "markdown",
      "metadata": {
        "id": "cIdpPPIEPzgV"
      },
      "source": [
        ""
      ]
    },
    {
      "cell_type": "markdown",
      "metadata": {
        "id": "VYGxEE8QP3oa"
      },
      "source": [
        "# 4. 텍스트 분류 실습 - 20 뉴스그룹 분류\n",
        "\n",
        "**텍스트 분류**는 특정 문서의 분류를 학습 데이터를 통해 학습해 모델을 생성한 뒤 이 학습 모델을 이용해 다른 문서의 분류를 예측하는 것이다.\n",
        "\n",
        "사이킷런은 fetch_20newsgroups( ) API를 이용해 뉴스그룹의 분류를 수행해 볼 수 있는 예제 데이터를 제공한다. 텍스트를 피처 벡터화로 변환하면 일반적으로 희소 행렬에 분류를 효과적으로 잘 처리할 수 있는 알고리즘은 로지스틱 회귀, 선형 서포트 벡터 머신, 나이브 베이즈 등이다. 이 중 로지스틱 회귀를 이용해 분류를 수행해 본다. 텍스트를 기반으로 분류를 수행할 때는 먼저 텍스트를 정규화한 뒤 피처 벡터화를 적용한다. 그리고 그 이후에 적합한 머신러닝 알고리즘을 적용해 분류를 학습/예측/평가한다."
      ]
    },
    {
      "cell_type": "markdown",
      "metadata": {
        "id": "Ye3p5py-RkFi"
      },
      "source": [
        "## 1) 텍스트 정규화\n"
      ]
    },
    {
      "cell_type": "code",
      "metadata": {
        "id": "V1woUuM_Rq9V"
      },
      "source": [
        "from sklearn.datasets import fetch_20newsgroups\n",
        "\n",
        "news_data = fetch_20newsgroups(subset='all', random_state=156)"
      ],
      "execution_count": null,
      "outputs": []
    },
    {
      "cell_type": "markdown",
      "metadata": {
        "id": "dIcLHnUgR_uU"
      },
      "source": [
        "fetch_20newsgroups( )는 사이킷런의 다른 데이터 세트 예제와 같이 파이썬 딕셔너리와 유사한 Bunch 객체를 반환한다. 어떠한 key 값을 가지고 있는지 확인해본다."
      ]
    },
    {
      "cell_type": "code",
      "metadata": {
        "colab": {
          "base_uri": "https://localhost:8080/"
        },
        "id": "z8zqIhfWSKKf",
        "outputId": "497986ab-a337-4abd-e5e4-650435426775"
      },
      "source": [
        "print(news_data.keys())"
      ],
      "execution_count": null,
      "outputs": [
        {
          "output_type": "stream",
          "name": "stdout",
          "text": [
            "dict_keys(['data', 'filenames', 'target_names', 'target', 'DESCR'])\n"
          ]
        }
      ]
    },
    {
      "cell_type": "markdown",
      "metadata": {
        "id": "4-xUWySJSUtz"
      },
      "source": [
        "다음으로 Target 클래스가 어떻게 구성돼 있는지 확인한다.\n"
      ]
    },
    {
      "cell_type": "code",
      "metadata": {
        "colab": {
          "base_uri": "https://localhost:8080/"
        },
        "id": "Ib-CUQR2SXa9",
        "outputId": "6b5536ad-4b75-42f9-8bd9-ebdc461ac197"
      },
      "source": [
        "import pandas as pd\n",
        "\n",
        "print('target 클래스의 값과 분포도 \\n', pd.Series(news_data.target).value_counts().sort_index())\n",
        "print('target 클래스의 이름들 \\n', news_data.target_names)"
      ],
      "execution_count": null,
      "outputs": [
        {
          "output_type": "stream",
          "name": "stdout",
          "text": [
            "target 클래스의 값과 분포도 \n",
            " 0     799\n",
            "1     973\n",
            "2     985\n",
            "3     982\n",
            "4     963\n",
            "5     988\n",
            "6     975\n",
            "7     990\n",
            "8     996\n",
            "9     994\n",
            "10    999\n",
            "11    991\n",
            "12    984\n",
            "13    990\n",
            "14    987\n",
            "15    997\n",
            "16    910\n",
            "17    940\n",
            "18    775\n",
            "19    628\n",
            "dtype: int64\n",
            "target 클래스의 이름들 \n",
            " ['alt.atheism', 'comp.graphics', 'comp.os.ms-windows.misc', 'comp.sys.ibm.pc.hardware', 'comp.sys.mac.hardware', 'comp.windows.x', 'misc.forsale', 'rec.autos', 'rec.motorcycles', 'rec.sport.baseball', 'rec.sport.hockey', 'sci.crypt', 'sci.electronics', 'sci.med', 'sci.space', 'soc.religion.christian', 'talk.politics.guns', 'talk.politics.mideast', 'talk.politics.misc', 'talk.religion.misc']\n"
          ]
        }
      ]
    },
    {
      "cell_type": "markdown",
      "metadata": {
        "id": "tb-MNvK_StCA"
      },
      "source": [
        "Target 클래스의 값은 0부터 19까지 20개로 구성되어 있으며, 위의 출력 결과처럼 주어졌다. 개별 데이터가 텍스트로 어떻게 구성돼 있는지 데이터를 한 개만 추출해 값을 확인한다."
      ]
    },
    {
      "cell_type": "code",
      "metadata": {
        "colab": {
          "base_uri": "https://localhost:8080/"
        },
        "id": "EIVeynY6S1DB",
        "outputId": "53e80c9f-296a-487b-e3bc-07d41bc09013"
      },
      "source": [
        "print(news_data.data[0])"
      ],
      "execution_count": null,
      "outputs": [
        {
          "output_type": "stream",
          "name": "stdout",
          "text": [
            "From: egreen@east.sun.com (Ed Green - Pixel Cruncher)\n",
            "Subject: Re: Observation re: helmets\n",
            "Organization: Sun Microsystems, RTP, NC\n",
            "Lines: 21\n",
            "Distribution: world\n",
            "Reply-To: egreen@east.sun.com\n",
            "NNTP-Posting-Host: laser.east.sun.com\n",
            "\n",
            "In article 211353@mavenry.altcit.eskimo.com, maven@mavenry.altcit.eskimo.com (Norman Hamer) writes:\n",
            "> \n",
            "> The question for the day is re: passenger helmets, if you don't know for \n",
            ">certain who's gonna ride with you (like say you meet them at a .... church \n",
            ">meeting, yeah, that's the ticket)... What are some guidelines? Should I just \n",
            ">pick up another shoei in my size to have a backup helmet (XL), or should I \n",
            ">maybe get an inexpensive one of a smaller size to accomodate my likely \n",
            ">passenger? \n",
            "\n",
            "If your primary concern is protecting the passenger in the event of a\n",
            "crash, have him or her fitted for a helmet that is their size.  If your\n",
            "primary concern is complying with stupid helmet laws, carry a real big\n",
            "spare (you can put a big or small head in a big helmet, but not in a\n",
            "small one).\n",
            "\n",
            "---\n",
            "Ed Green, former Ninjaite |I was drinking last night with a biker,\n",
            "  Ed.Green@East.Sun.COM   |and I showed him a picture of you.  I said,\n",
            "DoD #0111  (919)460-8302  |\"Go on, get to know her, you'll like her!\"\n",
            " (The Grateful Dead) -->  |It seemed like the least I could do...\n",
            "\n",
            "\n"
          ]
        }
      ]
    },
    {
      "cell_type": "markdown",
      "metadata": {
        "id": "oBWgya6ZTHcz"
      },
      "source": [
        "여기에서 내용을 제외하고 제목 등의 다른 정보는 제거한다. 왜냐하면 제목과 소소그 이메일 주소 등의 헤더와 푸터 정보들은 뉴스그룹 분류의 Target 클래스 값과 유사한 데이터를 가지고 있는 경우가 많기 때문이다. 이 피처들을 포함하게 되면 왠만한 ML 알고리즘을 적용해도 상당히 높은 예측 성능을 나타낸다. 따라서 이들 헤더와 푸터 정보를 포함하는 이 장에서 수행하려는 텍스트 분석의 의도를 벗어나기에 순수한 텍스트만으로 구성된 기사 내용으로 어떤 뉴스그룹에 속하는지 분류할 것이다. remove 파라미터를 이용하면 뉴스그룹 기사의 헤더(header), 푸터(footer) 등을 제거할 수 있다. 또한 fetch_20newsgroups( )는 subset 파라미터를 이용해 학습 데이터 세트와 테스트 데이터 세트를 분리해 내려받을 수 있다."
      ]
    },
    {
      "cell_type": "code",
      "metadata": {
        "colab": {
          "base_uri": "https://localhost:8080/"
        },
        "id": "2L4kXExMViQ-",
        "outputId": "83555147-8c72-45aa-c85a-136a369be5fa"
      },
      "source": [
        "from sklearn.datasets import fetch_20newsgroups\n",
        "\n",
        "# subset='train'으로 학습용 데이터만 추출, remove=('headers', 'footers', 'quotes')로 내용만 추출\n",
        "train_news = fetch_20newsgroups(subset='train', remove=('headers', 'footers', 'quotes'),\n",
        "                   random_state=156)\n",
        "X_train = train_news.data\n",
        "y_train = train_news.target\n",
        "\n",
        "# subset='test'로 테스트 데이터만 추출, remove('headers', 'footers,' quotes')로 내용만 추출\n",
        "test_news = fetch_20newsgroups(subset='test', remove=('headers', 'footers', 'quotes'),\n",
        "                               random_state=156)\n",
        "\n",
        "X_test = test_news.data\n",
        "y_test = test_news.target\n",
        "print('학습 데이터 크기 {0}, 테스트 데이터 크기 {1}'.format(len(train_news.data), len(test_news.data)))"
      ],
      "execution_count": null,
      "outputs": [
        {
          "output_type": "stream",
          "name": "stdout",
          "text": [
            "학습 데이터 크기 11314, 테스트 데이터 크기 7532\n"
          ]
        }
      ]
    },
    {
      "cell_type": "markdown",
      "metadata": {
        "id": "zyKLGiIGWimu"
      },
      "source": [
        "## 2) 피처 벡터화 변환과 머신러닝 모델 학습/예측/평가\n",
        "\n",
        "CountVectorizer를 이용해 학습 데이터의 텍스트를 피처 벡터화하겠습니다. 테스트 데이터 역시 피처 벡터화를 수행하는데, 유의할 점이 있다. 바로 테스트 데이터에서 CountVectorizer를 적용할 때는 반드시 학습 데이터를 이용해 fit( )이 수행된 CountVectorizer 객체를 이용해 테스트 데이터를 변환(transform)해야 한다는 것이다. 그래야만 학습 시 설정된 CountVectorizer의 피처 개수와 테스트 데이터를 CountVectorizer로 변환할 피처 개수가 같아진다. 테스트 데이터의 피처 벡터화는 학습 데이터에 사용된 CountVectorizer 객체 변수인 cnt_vect.transform( )을 이용해 변환한다. 또한 테스트 데이터의 피처 벡터화시 fit_transform( )을 사용하면 안 된다는 점을 주의해야 한다."
      ]
    },
    {
      "cell_type": "code",
      "metadata": {
        "colab": {
          "base_uri": "https://localhost:8080/"
        },
        "id": "5T1uMQh-Ksda",
        "outputId": "04c00176-0782-417c-d8a9-f2cbecf178c1"
      },
      "source": [
        "from sklearn.feature_extraction.text import CountVectorizer\n",
        "\n",
        "# Count Vectorization으로 피처 벡터화 변환 수행.\n",
        "cnt_vect = CountVectorizer()\n",
        "cnt_vect.fit(X_train)\n",
        "X_train_cnt_vect = cnt_vect.transform(X_train)\n",
        "\n",
        "# 학습 데이터로 fit( )된 CountVectorizer를 이용해 테스트 데이터를 피처 벡처화 변환 수행.\n",
        "X_test_cnt_vect = cnt_vect.transform(X_test)\n",
        "\n",
        "print('학습 데이터 텍스트의 CountVectorizer Shape:', X_train_cnt_vect.shape)"
      ],
      "execution_count": null,
      "outputs": [
        {
          "output_type": "stream",
          "name": "stdout",
          "text": [
            "학습 데이터 텍스트의 CountVectorizer Shape: (11314, 101631)\n"
          ]
        }
      ]
    },
    {
      "cell_type": "markdown",
      "metadata": {
        "id": "lnsssOgWLYbw"
      },
      "source": [
        "이렇게 피처 벡터화된 데이터에 로지스틱 회귀를 적용해 뉴스그룹에 대한 분류를 예측한다."
      ]
    },
    {
      "cell_type": "code",
      "metadata": {
        "colab": {
          "base_uri": "https://localhost:8080/"
        },
        "id": "CzJWcbU5LckT",
        "outputId": "9dc3caa1-800f-4049-b4f0-a98dabfe2f9f"
      },
      "source": [
        "from sklearn.linear_model import LogisticRegression\n",
        "from sklearn.metrics import accuracy_score\n",
        "\n",
        "# LogisticRegression을 이용해 학습/예측/평가 수행\n",
        "lr_clf = LogisticRegression()\n",
        "lr_clf.fit(X_train_cnt_vect, y_train)\n",
        "pred = lr_clf.predict(X_test_cnt_vect)\n",
        "print('CountVectorized Logistic Regression의 예측 정확도는 {0:.3f}'.format(accuracy_score(y_test, pred)))"
      ],
      "execution_count": null,
      "outputs": [
        {
          "output_type": "stream",
          "name": "stdout",
          "text": [
            "CountVectorized Logistic Regression의 예측 정확도는 0.608\n"
          ]
        },
        {
          "output_type": "stream",
          "name": "stderr",
          "text": [
            "/usr/local/lib/python3.7/dist-packages/sklearn/linear_model/_logistic.py:940: ConvergenceWarning: lbfgs failed to converge (status=1):\n",
            "STOP: TOTAL NO. of ITERATIONS REACHED LIMIT.\n",
            "\n",
            "Increase the number of iterations (max_iter) or scale the data as shown in:\n",
            "    https://scikit-learn.org/stable/modules/preprocessing.html\n",
            "Please also refer to the documentation for alternative solver options:\n",
            "    https://scikit-learn.org/stable/modules/linear_model.html#logistic-regression\n",
            "  extra_warning_msg=_LOGISTIC_SOLVER_CONVERGENCE_MSG)\n"
          ]
        }
      ]
    },
    {
      "cell_type": "markdown",
      "metadata": {
        "id": "dluq8MmkMQaz"
      },
      "source": [
        "이번에는 Count 기반에서 TF-IDF 기반으로 벡터화로 변경해 예측 모델을 수행한다."
      ]
    },
    {
      "cell_type": "code",
      "metadata": {
        "colab": {
          "base_uri": "https://localhost:8080/"
        },
        "id": "YlDy16PRMYf-",
        "outputId": "f647e818-4ec4-44ee-a06c-a5c8e40d5f7a"
      },
      "source": [
        "from sklearn.feature_extraction.text import TfidfVectorizer\n",
        "\n",
        "# TF-IDF 벡터화를 적용해 학습 데이터 세트와 테스트 데이터 세트 변환.\n",
        "tfidf_vect = TfidfVectorizer()\n",
        "tfidf_vect.fit(X_train)\n",
        "X_train_tfidf_vect = tfidf_vect.transform(X_train)\n",
        "X_test_tfidf_vect = tfidf_vect.transform(X_test)\n",
        "\n",
        "# LogisticRegression을 이용해 학습/예측/평가 수행.\n",
        "lr_clf = LogisticRegression()\n",
        "lr_clf.fit(X_train_tfidf_vect, y_train)\n",
        "pred = lr_clf.predict(X_test_tfidf_vect)\n",
        "print('TF-IDF Logistic Regression의 예측 정확도는 {0:.3f}'.format(accuracy_score(y_test,pred)))"
      ],
      "execution_count": null,
      "outputs": [
        {
          "output_type": "stream",
          "name": "stdout",
          "text": [
            "TF-IDF Logistic Regression의 예측 정확도는 0.674\n"
          ]
        }
      ]
    },
    {
      "cell_type": "markdown",
      "metadata": {
        "id": "xp0slYGDNH70"
      },
      "source": [
        "TF-IDF가 단순 카운트 기반보다 훨씬 높은 예측 정확도를 제공한다. 일반적으로 문서 내에 텍스트가 많고 많은 문서를 가지는 텍스트 분석에서 카운트 벡터화보다는 IF-IDF 벡터화가 좋은 예측 결과를 도출한다.\n",
        "\n",
        "텍스트 분석에서 머신러닝 모델의 성능을 향상시키는 중요한 2가지 방법은 최적 ML 알고리즘을 선택하는 것과 최상의 피처 전처리를 수행하는 것이다. 텍스트 정규화나 Count/TF-IDF 기반 피처 벡터화를 어떻게 효과적으로 적용했는지가 텍스트 기반의 머신러닝 성능에 큰 영향을 미칠 수 있다.\n",
        "\n",
        "앞의 TF-IDF 벡터화는 기본 파라미터만 적용했지만, 이번에는 좀 더 다양한 파라미터를 적용하도록 한다."
      ]
    },
    {
      "cell_type": "code",
      "metadata": {
        "colab": {
          "base_uri": "https://localhost:8080/"
        },
        "id": "MuRUGTYJNoA3",
        "outputId": "caf13c87-0f90-4ecf-9bbb-eb639f1bbf87"
      },
      "source": [
        "# stop words 필터링을 추가하고 ngram을 기본 (1, 1)에서 (1, 2)로 변경해 피처 벡터화 적용.\n",
        "tfidf_vect = TfidfVectorizer(stop_words='english', ngram_range=(1, 2), max_df=300)\n",
        "tfidf_vect.fit(X_train)\n",
        "X_train_tfidf_vect = tfidf_vect.transform(X_train)\n",
        "X_test_tfidf_vect = tfidf_vect.transform(X_test)\n",
        "\n",
        "lr_clf = LogisticRegression()\n",
        "lr_clf.fit(X_train_tfidf_vect, y_train)\n",
        "pred = lr_clf.predict(X_test_tfidf_vect)\n",
        "print('TF-IDF Vectorized Logisitic Regression 의 예측 정확도는 {0:.3f}'.format(accuracy_score(y_test, pred)))"
      ],
      "execution_count": null,
      "outputs": [
        {
          "output_type": "stream",
          "name": "stdout",
          "text": [
            "TF-IDF Vectorized Logisitic Regression 의 예측 정확도는 0.692\n"
          ]
        }
      ]
    },
    {
      "cell_type": "markdown",
      "metadata": {
        "id": "ipQBdFpUP-0Q"
      },
      "source": [
        "이번에는 GridSearchCV를 이용해 로지스틱 회귀의 하이퍼 파라미터 최적화를 수행해 본다\n"
      ]
    },
    {
      "cell_type": "code",
      "metadata": {
        "colab": {
          "base_uri": "https://localhost:8080/",
          "height": 103
        },
        "id": "Rbtq6GqEQH0Y",
        "outputId": "0771600e-c73a-48b1-e6bc-203c1e581278"
      },
      "source": [
        "from sklearn.model_selection import GridSearchCV\n",
        "'''\n",
        "# 최적 C 값 도출 튜닝 수행. CV는 3 폴드 세트로 설정.\n",
        "params = { 'C':[0.01, 0.1, 1, 5, 10]}\n",
        "grid_cv_lr = GridSearchCV(lr_clf, param_grid=params, cv=3, scoring='accuracy', verbose=1)\n",
        "grid_cv_lr.fit(X_train_tfidf_vect, y_train)\n",
        "print('Logistic Regression Best C parameter :', grid_cv_lr.best_params_)\n",
        "\n",
        "# 최적 C 값으로 학습된 grid_cv로 예측 및 정확도 평가.\n",
        "pred = grid_cv_lr.predict(X_test_tfidf_vect)\n",
        "print('TF-IDF Vectorized Logistic Regression의 예측 정확도는 {0:.3f}'.format(accuracy_score(y_test, pred)))\n",
        "'''"
      ],
      "execution_count": null,
      "outputs": [
        {
          "output_type": "execute_result",
          "data": {
            "application/vnd.google.colaboratory.intrinsic+json": {
              "type": "string"
            },
            "text/plain": [
              "\"\\n# 최적 C 값 도출 튜닝 수행. CV는 3 폴드 세트로 설정.\\nparams = { 'C':[0.01, 0.1, 1, 5, 10]}\\ngrid_cv_lr = GridSearchCV(lr_clf, param_grid=params, cv=3, scoring='accuracy', verbose=1)\\ngrid_cv_lr.fit(X_train_tfidf_vect, y_train)\\nprint('Logistic Regression Best C parameter :', grid_cv_lr.best_params_)\\n\\n# 최적 C 값으로 학습된 grid_cv로 예측 및 정확도 평가.\\npred = grid_cv_lr.predict(X_test_tfidf_vect)\\nprint('TF-IDF Vectorized Logistic Regression의 예측 정확도는 {0:.3f}'.format(accuracy_score(y_test, pred)))\\n\""
            ]
          },
          "metadata": {},
          "execution_count": 24
        }
      ]
    },
    {
      "cell_type": "markdown",
      "metadata": {
        "id": "lSrRnKD5WDdl"
      },
      "source": [
        "## 3) 사이킷런 파이프라인(Pipeline) 사용 및 GridSearchCV와 결합\n",
        "\n",
        "사이킷런의 **Pipeline 클래스**를 이용하면 피처 벡터화와 ML 알고리즘 학습/예측을 위한 코드 작성을 한 번에 진행할 수 있다. 일반적으로 머신러닝에서 Pipeline이란 데이터의 가공, 변환 등의 전처리와 알고리즘 적용을 마치 '수도관(Pipe)에서 물이 흐르듯' 한꺼번에 스트림 기반으로 처리한다는 의미이다. 이렇게 Pipeline을 이용하면 데이터의 전처리와 머신러닝 학습 과정을 통일된 API 기반에서 처리할 수 있어 더 직관적인 ML 모델 코드를 생성할 수 있다. 또한 대용량 데이터의 피처 벡터화 결과를 별도 데이터로 저장하지 않고 스트림 기반에서 바로 머신러닝 알고리즘의 데이터로 입력할 수 있기 때문에 수행 시간을 절약할 수 있다. 일반적으로 사이킷런 파이프라인은 텍스트 기반의 피처 벡터화뿐만 아니라 모든 데이터 전처리 작업과 Estimator를 결합할 수 있다.\n",
        "\n",
        "다음은 위에서 텍스트 분류 예제 코드를 Pipeline을 이용해 다시 작성한 코드이다."
      ]
    },
    {
      "cell_type": "code",
      "metadata": {
        "colab": {
          "base_uri": "https://localhost:8080/",
          "height": 52
        },
        "id": "7aCyjwr1W71T",
        "outputId": "7091e779-d3b8-4196-880e-1522d32df980"
      },
      "source": [
        "'''\n",
        "pipeline = Pipeline([('tfidf_vect', TfidfVectorizer(stop_words='english')),\n",
        "                     ('lr_clf', LogisticRegression(random_state=156))])\n",
        "                     '''"
      ],
      "execution_count": null,
      "outputs": [
        {
          "output_type": "execute_result",
          "data": {
            "application/vnd.google.colaboratory.intrinsic+json": {
              "type": "string"
            },
            "text/plain": [
              "\"\\npipeline = Pipeline([('tfidf_vect', TfidfVectorizer(stop_words='english')),\\n                     ('lr_clf', LogisticRegression(random_state=156))])\\n                     \""
            ]
          },
          "metadata": {},
          "execution_count": 25
        }
      ]
    },
    {
      "cell_type": "markdown",
      "metadata": {
        "id": "0ibzB1pIXKwv"
      },
      "source": [
        "이는 TfidfVectorizer 객체를 tfidf_vect라는 객체 변수 명으로, LogisticRegression 객체를 lr_clf라는 객체 변수 명으로 생성한 뒤 이 두개의 객체를 파이프라인으로 연결하는 Pipeline 객체를 pipelinedㅔ 생성한다는 의미이다."
      ]
    },
    {
      "cell_type": "code",
      "metadata": {
        "colab": {
          "base_uri": "https://localhost:8080/"
        },
        "id": "xsWm4OPTXcav",
        "outputId": "51bc2244-e028-48a2-a0d9-5d5e73772d92"
      },
      "source": [
        "from sklearn.pipeline import Pipeline\n",
        "\n",
        "# TfidfVectorizer 객체를 tfidf_vect 객체명으로, LogisticRegression객체를 lr_clf 객체명으로 생성하는 Pipeline생성\n",
        "pipeline = Pipeline([\n",
        "    ('tfidf_vect', TfidfVectorizer(stop_words='english', ngram_range=(1,2), max_df=300)),\n",
        "    ('lr_clf', LogisticRegression(C=10))\n",
        "])\n",
        "\n",
        "# 별도의 TfidfVectorizer객체의 fit_transform( )과 LogisticRegression의 fit(), predict( )가 필요 없음. \n",
        "# pipeline의 fit( ) 과 predict( ) 만으로 한꺼번에 Feature Vectorization과 ML 학습/예측이 가능. \n",
        "pipeline.fit(X_train, y_train)\n",
        "pred = pipeline.predict(X_test)\n",
        "print('Pipeline을 통한 Logistic Regression 의 예측 정확도는 {0:.3f}'.format(accuracy_score(y_test ,pred)))\n"
      ],
      "execution_count": null,
      "outputs": [
        {
          "output_type": "stream",
          "name": "stderr",
          "text": [
            "/usr/local/lib/python3.7/dist-packages/sklearn/linear_model/_logistic.py:940: ConvergenceWarning: lbfgs failed to converge (status=1):\n",
            "STOP: TOTAL NO. of ITERATIONS REACHED LIMIT.\n",
            "\n",
            "Increase the number of iterations (max_iter) or scale the data as shown in:\n",
            "    https://scikit-learn.org/stable/modules/preprocessing.html\n",
            "Please also refer to the documentation for alternative solver options:\n",
            "    https://scikit-learn.org/stable/modules/linear_model.html#logistic-regression\n",
            "  extra_warning_msg=_LOGISTIC_SOLVER_CONVERGENCE_MSG)\n"
          ]
        },
        {
          "output_type": "stream",
          "name": "stdout",
          "text": [
            "Pipeline을 통한 Logistic Regression 의 예측 정확도는 0.701\n"
          ]
        }
      ]
    },
    {
      "cell_type": "markdown",
      "metadata": {
        "id": "K0rYhDfUZ2wP"
      },
      "source": [
        "이 코드를 보면 기존 TfidfVectorizer의 학습 데이터와 테스트 데이터에 대한 fit( )과 transform( ) 수행을 통한 피처 벡터화와 LogisticRegressor의 fit( )과 predict( ) 수행을  통한 머신러닝 모델의 학습과 예측이 Pipeline의 fit( )과 predict( )로 통일돼 수행됨을 알 수 있다. 이렇게 Pipeline 방식을 적용하면 머신러닝 코드를 더 직관적이고 쉽게 작성할 수 있다."
      ]
    },
    {
      "cell_type": "markdown",
      "metadata": {
        "id": "9fGyLwKoZJLH"
      },
      "source": [
        "사이킷런은 GridSearchCV 클래스의 생성 파라미터로 Pipeline을 입력해 Pipeline 기반에서도 하이퍼 파라미터 튜닝을 GridSearchCV 방식으로 진행할 수 있게 지원한다. 이렇게 하면 피처 벡터화를 위한 파라미터와 ML 알고리즘의 하이퍼 파라미터를 모두 한 번에 GridSearchCV를 이용해 최적화할 수 있다."
      ]
    },
    {
      "cell_type": "markdown",
      "metadata": {
        "id": "R4rzSUtAaLsj"
      },
      "source": [
        "다음 예제는 GridSearchCV에 Pipeline을 입력하면서 TfidfVectorizer의 파라미터와 LogisticRegression의 하이퍼 파라미터를 함께 최적화한다.\n",
        "\n",
        "Pipeline + GridSearchCV를 적용할 때 유의할 점은 모두의 파라미터를 최적화하려면 너무 많은 튜닝 시간이 소모된다는 점이다."
      ]
    },
    {
      "cell_type": "code",
      "metadata": {
        "id": "UzZmERmjYsQX"
      },
      "source": [
        "from sklearn.pipeline import Pipeline\n",
        "'''\n",
        "\n",
        "pipeline = Pipeline([\n",
        "  ('tfidf_vect', TfidfVectorizer(stop_words='english')),\n",
        "  ('lr_clf', LogisticRegression())\n",
        "])\n",
        "\n",
        "# Pipeline에 기술된 각각의 객체 변수에 언더바(_) 2개를 연달아 붙여 GridSearchCV에 사용될 파라미터/하이퍼 파라미터 이름과 값을 설정\n",
        "params = { 'tfidf_vect__ngram_range': [(1, 1), (1, 2), (1, 3)],\n",
        "'tfidf_vect__max_df' : [100, 300, 700],\n",
        "'lr_clf__C': [1, 5, 10]}\n",
        "\n",
        "# GridSearchCV의 생성자에 Estimator가 아닌 Pipeline 객체 입력\n",
        "grid_cv_pipe = GridSearchCV(pipeline, param_grid=params, cv=3, scoring='accuracy', verbose=1)\n",
        "grid_cv_pipe.fit(X_train, y_train)\n",
        "print(grid_cv_pipe.best_params_, grid_cv_pipe.best_score_)\n",
        "\n",
        "pred = grid_cv_pipe.predict(X_test)\n",
        "print('Pipeline을 통한 Logistic Regression의 예측 정확도는 {0:.3f}'.format(accuracy_score(y_test, pred)))"
      ],
      "execution_count": null,
      "outputs": []
    },
    {
      "cell_type": "markdown",
      "metadata": {
        "id": "aa7_bswcb3We"
      },
      "source": [
        "코드를 살펴보면 GridSearCV에 Estimator가 아닌 Pipeline을 입력할 경우 param_grid의 입력 값 설정이 기존과 약간 다르다. 딕셔너리 형태의 Key와 Value 값을 가지며, Value를 리스트 형태로 입력하는 것은 동일하다. 다만 Key 값을 살펴보면 'tfidf_vect__ngram_range'와 같이 하이퍼 파라미터명이 객체 변수명과 결합돼 제공된다. Pipeline을 GridSearchCV에 인자로 입력하면 GridSearchCV는 Pipeline을 구성하는 피처 벡터화 객체의 파라미터와 Estimator 객체의 하이퍼 파라미터를 각각 구별할 수 있어야 하는데, 이때 개별 객체 명과 파라미터명/하이퍼 파라미터명을 결합해 Key 값으로 할당하는 것이다. 가령 TfidfVectorizer 객체 변수인 tfidf_vect의 ngram_range 파라미터 값을 변화시키면서 최적화하기를 원한다면 객체 변수명인 tfidf_vect에 언더바('_') 2개를 연달아 붙인 뒤 파라미터명인 ngram_range를 결합해 'tfidf_vect_ngram_range'를 Key 값으로 할당하는 것이다."
      ]
    },
    {
      "cell_type": "markdown",
      "metadata": {
        "id": "tFVabdVgIWL0"
      },
      "source": [
        "# 5. 감성 분석\n"
      ]
    },
    {
      "cell_type": "markdown",
      "metadata": {
        "id": "Rce4-4GkIYVv"
      },
      "source": [
        "## 1) 감성 분석 소개\n",
        "\n",
        "**감성 분석(Sentiment Analysis)**은 문서의 주관적인 감성/의견/감정/기분 등을 파악하기 위한 방법으로 소셜 미디어, 여론조사, 온라인 리뷰, 피드백 등 다양한 분야에서 활용되고 있습니다. 감성 분석은 문서 내 텍스트가 나타내는 여러 가지 주관적인 단어와 문백을 기반으로 감성(Sentiment) 수치를 계산하는 방법을 이용한다. 이러한 감성 지수는 긍정 감성 지수와 부정 감성 지수로 구성되며 이들 지수를 합산해 긍정 감성 또는 부정 감성을 결정한다.\n",
        "\n",
        "이러한 감성 분석을 머신러닝 관점에서 지도학습과 비지도학습 방식으로 나눌 수 있다.\n",
        " - 지도학습은 학습 데이터와 타깃 레이블 값을 기반으로 감성 분석 학습을 수행한 뒤 이를 기반으로 다른 데이터의 감성 분석을 예측하는 방법으로 일반적인 텍스트 기반의 분류와 거의 동일하다.\n",
        " - 비지도학습은 'Lexicon'이라는 일종의 감성 어휘 사전을 이용한다. Lexicon은 감성 분석을 위한 용어와 문맥에 대한 다양한 정보를 가지고 있으며, 이를 이용해 문서의 긍정적, 부정적 감성 여부를 판단한다."
      ]
    },
    {
      "cell_type": "markdown",
      "metadata": {
        "id": "ZJ1rKRilNiFz"
      },
      "source": [
        "## 2) 지도학습 기반 감성 분석 실습 - IMDB 영화\n",
        "\n",
        "감성 분석이라는 타이틀이 붙었지만 지도학습 기반 감성 분석은 텍스트 기반의 이진 분류라 표현해도 좋다.\n",
        "\n",
        "영화평의 텍스트를 분석해 감성 분석 결과가 긍정 또는 부정인지를 예측하는 모델을 만들어 본다.\n",
        "\n",
        "데이터는 https://www.kaggle.com/c/word2vec-nlp-tutorial 에서 내려 받을 수 있다."
      ]
    },
    {
      "cell_type": "code",
      "metadata": {
        "colab": {
          "base_uri": "https://localhost:8080/",
          "height": 142
        },
        "id": "j3K0YovuOnx9",
        "outputId": "96273dcb-a34a-4d55-a1bd-9d31ea0228bb"
      },
      "source": [
        "import pandas as pd\n",
        "\n",
        "review_df = pd.read_csv('/content/drive/MyDrive/데이터분석/파이썬머신러닝완벽가이드/labeledTrainData.tsv', header=0, sep='\\t', quoting=3)\n",
        "review_df.head(3)"
      ],
      "execution_count": null,
      "outputs": [
        {
          "output_type": "execute_result",
          "data": {
            "text/html": [
              "<div>\n",
              "<style scoped>\n",
              "    .dataframe tbody tr th:only-of-type {\n",
              "        vertical-align: middle;\n",
              "    }\n",
              "\n",
              "    .dataframe tbody tr th {\n",
              "        vertical-align: top;\n",
              "    }\n",
              "\n",
              "    .dataframe thead th {\n",
              "        text-align: right;\n",
              "    }\n",
              "</style>\n",
              "<table border=\"1\" class=\"dataframe\">\n",
              "  <thead>\n",
              "    <tr style=\"text-align: right;\">\n",
              "      <th></th>\n",
              "      <th>id</th>\n",
              "      <th>sentiment</th>\n",
              "      <th>review</th>\n",
              "    </tr>\n",
              "  </thead>\n",
              "  <tbody>\n",
              "    <tr>\n",
              "      <th>0</th>\n",
              "      <td>\"5814_8\"</td>\n",
              "      <td>1</td>\n",
              "      <td>\"With all this stuff going down at the moment ...</td>\n",
              "    </tr>\n",
              "    <tr>\n",
              "      <th>1</th>\n",
              "      <td>\"2381_9\"</td>\n",
              "      <td>1</td>\n",
              "      <td>\"\\\"The Classic War of the Worlds\\\" by Timothy ...</td>\n",
              "    </tr>\n",
              "    <tr>\n",
              "      <th>2</th>\n",
              "      <td>\"7759_3\"</td>\n",
              "      <td>0</td>\n",
              "      <td>\"The film starts with a manager (Nicholas Bell...</td>\n",
              "    </tr>\n",
              "  </tbody>\n",
              "</table>\n",
              "</div>"
            ],
            "text/plain": [
              "         id  sentiment                                             review\n",
              "0  \"5814_8\"          1  \"With all this stuff going down at the moment ...\n",
              "1  \"2381_9\"          1  \"\\\"The Classic War of the Worlds\\\" by Timothy ...\n",
              "2  \"7759_3\"          0  \"The film starts with a manager (Nicholas Bell..."
            ]
          },
          "metadata": {},
          "execution_count": 13
        }
      ]
    },
    {
      "cell_type": "markdown",
      "metadata": {
        "id": "JGDT-zNaRt_O"
      },
      "source": [
        "텍스트가 어떻게 구성돼 있는지 review 칼럼의 텍스트 값을 하나만 살펴본다."
      ]
    },
    {
      "cell_type": "code",
      "metadata": {
        "colab": {
          "base_uri": "https://localhost:8080/"
        },
        "id": "KwLUwzE9Rw-m",
        "outputId": "13063bb0-d283-4305-fb7c-6af2c057dd63"
      },
      "source": [
        "print(review_df['review'][0])"
      ],
      "execution_count": null,
      "outputs": [
        {
          "output_type": "stream",
          "name": "stdout",
          "text": [
            "\"With all this stuff going down at the moment with MJ i've started listening to his music, watching the odd documentary here and there, watched The Wiz and watched Moonwalker again. Maybe i just want to get a certain insight into this guy who i thought was really cool in the eighties just to maybe make up my mind whether he is guilty or innocent. Moonwalker is part biography, part feature film which i remember going to see at the cinema when it was originally released. Some of it has subtle messages about MJ's feeling towards the press and also the obvious message of drugs are bad m'kay.<br /><br />Visually impressive but of course this is all about Michael Jackson so unless you remotely like MJ in anyway then you are going to hate this and find it boring. Some may call MJ an egotist for consenting to the making of this movie BUT MJ and most of his fans would say that he made it for the fans which if true is really nice of him.<br /><br />The actual feature film bit when it finally starts is only on for 20 minutes or so excluding the Smooth Criminal sequence and Joe Pesci is convincing as a psychopathic all powerful drug lord. Why he wants MJ dead so bad is beyond me. Because MJ overheard his plans? Nah, Joe Pesci's character ranted that he wanted people to know it is he who is supplying drugs etc so i dunno, maybe he just hates MJ's music.<br /><br />Lots of cool things in this like MJ turning into a car and a robot and the whole Speed Demon sequence. Also, the director must have had the patience of a saint when it came to filming the kiddy Bad sequence as usually directors hate working with one kid let alone a whole bunch of them performing a complex dance scene.<br /><br />Bottom line, this movie is for people who like MJ on one level or another (which i think is most people). If not, then stay away. It does try and give off a wholesome message and ironically MJ's bestest buddy in this movie is a girl! Michael Jackson is truly one of the most talented people ever to grace this planet but is he guilty? Well, with all the attention i've gave this subject....hmmm well i don't know because people can be different behind closed doors, i know this for a fact. He is either an extremely nice but stupid guy or one of the most sickest liars. I hope he is not the latter.\"\n"
          ]
        }
      ]
    },
    {
      "cell_type": "markdown",
      "metadata": {
        "id": "G6fG4iQHR6YY"
      },
      "source": [
        "HTML 형식에서 추출했기에 <br /> 태그가 여전히 존재한다. 이는 피처로 만들 필요가 없으니 삭제한다. replace( )를 str에 적용해 <br /> 태그를 공백으로 모두 바꾼다.\n",
        "\n",
        "영어가 아닌 숫자/특수문자 역시 Sentiment를 위한 피처로는 별 의미가 없어 보이므로 이들도 모두 공란으로 변경한다. 숫자/특수문자를 찾고 이를 변환하는 것은 정규 표현식을 이용한다. 파이썬의 **re 모듈**은 편리하게 정규 표현식ㅇ,ㄹ 지원한다. 정규 표현식 [^a-zA-Z]의 의미는 영어 대/소문자가 아닌 모든 문자를 찾는 것이다. re.sub('[^a-zA-Z]', ' ', x)는 영어 대/소문자가 아닌 모든 문자를 찾아서 공란으로 변경한다."
      ]
    },
    {
      "cell_type": "code",
      "metadata": {
        "id": "W7T87GjUSa0V"
      },
      "source": [
        "import re\n",
        "# <br> html 태그는 replace 함수로 공백으로 변환\n",
        "review_df['review'] = review_df['review'].str.replace('<br />', ' ')\n",
        "\n",
        "# 파이썬의 정규 표현식 모듈인 re를 이용해 영어 문자열이 아닌 문자는 모두 공백으로 변환\n",
        "review_df['review'] = review_df['review'].apply(lambda x: re.sub('[^a-zA-Z]', ' ', x))"
      ],
      "execution_count": null,
      "outputs": []
    },
    {
      "cell_type": "markdown",
      "metadata": {
        "id": "JRnJCYhFU1AV"
      },
      "source": [
        "결정 값 클래스인 sentiment 칼럼을 별도로 추출해 결정 값 데이터 세트를 만들고, 원본 데이터 세트에서 id와 sentiment 칼럼을 삭제해 피처 데이터 세트를 생성한다. 그리고 train_test_split( )을 이용해 학습용과 테스트용 데이터 세트로 분리한다."
      ]
    },
    {
      "cell_type": "code",
      "metadata": {
        "colab": {
          "base_uri": "https://localhost:8080/"
        },
        "id": "IZugDt1aVJGc",
        "outputId": "47944f66-2c5f-4513-cfed-ac7384ca2244"
      },
      "source": [
        "from sklearn.model_selection import train_test_split\n",
        "\n",
        "class_df = review_df['sentiment']\n",
        "feature_df = review_df.drop(['id', 'sentiment'], axis=1, inplace=False)\n",
        "\n",
        "X_train, X_test, y_train, y_test = train_test_split(feature_df, class_df, test_size=0.3, random_state=156)\n",
        "\n",
        "print(X_train.shape, X_test.shape)"
      ],
      "execution_count": null,
      "outputs": [
        {
          "output_type": "stream",
          "name": "stdout",
          "text": [
            "(17500, 1) (7500, 1)\n"
          ]
        }
      ]
    },
    {
      "cell_type": "markdown",
      "metadata": {
        "id": "2Ygw-YijXAGR"
      },
      "source": [
        "이제 감상평(Review) 텍스트를 피처 벡터화한 후에 ML 분류 알고리즘을 적용해 예측 성능을 측정한다. 앞 절에서 설명한 Pipeline 객체를 이용해 이 두 가지를 한꺼번에 수행한다. 먼저 Count 벡터화를 적용해 예측 성능을 측정한다. Classifier는 LogisticRegression을 이용한다. 예측 성능 평가는 이진 분류임을 고려해 테스트 데이터 세트의 정확도와 ROC-AUG를 모두 측정한다."
      ]
    },
    {
      "cell_type": "code",
      "metadata": {
        "colab": {
          "base_uri": "https://localhost:8080/"
        },
        "id": "zS2KxK_WXXp3",
        "outputId": "8aefadef-7e24-48df-a46d-5f74e6cf0db8"
      },
      "source": [
        "from sklearn.feature_extraction.text import CountVectorizer, TfidfVectorizer\n",
        "from sklearn.pipeline import Pipeline\n",
        "from sklearn.linear_model import LogisticRegression\n",
        "from sklearn.metrics import accuracy_score, roc_auc_score\n",
        "\n",
        "# 스톱 워드는 English, filtering, ngram은 (1, 2)로 설정해 CountVectorization 수행\n",
        "# LogisticRegression의 C는 10으로 설정.\n",
        "pipeline = Pipeline([\n",
        "                     ('cnt_vect', CountVectorizer(stop_words='english', ngram_range=(1, 2))),\n",
        "                     ('lr_clf', LogisticRegression(C=10))\n",
        "])\n",
        "\n",
        "# Pipeline 객체를 이용해 fit(), predict()로 학습/예측 수행. predict_proba()는 roc_auc 때문에 수행.\n",
        "pipeline.fit(X_train['review'], y_train)\n",
        "pred = pipeline.predict(X_test['review'])\n",
        "pred_probs = pipeline.predict_proba(X_test['review'])[:, 1]\n",
        "\n",
        "print('예측 정확도는 {0:.4f}, ROC-AUC는 {1:.4f}'.format(accuracy_score(y_test,pred),\n",
        "                                                 roc_auc_score(y_test, pred_probs)))\n"
      ],
      "execution_count": null,
      "outputs": [
        {
          "output_type": "stream",
          "name": "stderr",
          "text": [
            "/usr/local/lib/python3.7/dist-packages/sklearn/linear_model/_logistic.py:940: ConvergenceWarning: lbfgs failed to converge (status=1):\n",
            "STOP: TOTAL NO. of ITERATIONS REACHED LIMIT.\n",
            "\n",
            "Increase the number of iterations (max_iter) or scale the data as shown in:\n",
            "    https://scikit-learn.org/stable/modules/preprocessing.html\n",
            "Please also refer to the documentation for alternative solver options:\n",
            "    https://scikit-learn.org/stable/modules/linear_model.html#logistic-regression\n",
            "  extra_warning_msg=_LOGISTIC_SOLVER_CONVERGENCE_MSG)\n"
          ]
        },
        {
          "output_type": "stream",
          "name": "stdout",
          "text": [
            "예측 정확도는 0.8860, ROC-AUC는 0.9503\n"
          ]
        }
      ]
    },
    {
      "cell_type": "markdown",
      "metadata": {
        "id": "BBn9RYdAexoL"
      },
      "source": [
        "이번에는 TF-IDF 벡터화를 적용해 다시 예측 성능을 측정한다. 예제 코드는 위와 거의 같고, 단지 Pipeline에서 CountVectorizer를 TfidfVectorizer로 변경한다."
      ]
    },
    {
      "cell_type": "code",
      "metadata": {
        "colab": {
          "base_uri": "https://localhost:8080/"
        },
        "id": "F4xq9EgMe-RD",
        "outputId": "1ee94bda-7aa1-42e6-da03-668bb9a89e15"
      },
      "source": [
        "# 스톱 워드는 English, filtering, ngram은 (1, 2)로 설정해 CountVectorization 수행\n",
        "# LogisticRegression의 C는 10으로 설정.\n",
        "pipeline = Pipeline([\n",
        "                     ('tfidf_vect', TfidfVectorizer(stop_words='english', ngram_range=(1, 2))),\n",
        "                     ('lr_clf', LogisticRegression(C=10))\n",
        "])\n",
        "\n",
        "# Pipeline 객체를 이용해 fit(), predict()로 학습/예측 수행. predict_proba()는 roc_auc 때문에 수행.\n",
        "pipeline.fit(X_train['review'], y_train)\n",
        "pred = pipeline.predict(X_test['review'])\n",
        "pred_probs = pipeline.predict_proba(X_test['review'])[:, 1]\n",
        "\n",
        "print('예측 정확도는 {0:.4f}, ROC-AUC는 {1:.4f}'.format(accuracy_score(y_test,pred),\n",
        "                                                 roc_auc_score(y_test, pred_probs)))\n"
      ],
      "execution_count": null,
      "outputs": [
        {
          "output_type": "stream",
          "name": "stdout",
          "text": [
            "예측 정확도는 0.8936, ROC-AUC는 0.9598\n"
          ]
        }
      ]
    },
    {
      "cell_type": "markdown",
      "metadata": {
        "id": "52HUx9lriZF2"
      },
      "source": [
        "## 3) 비지도학습 기반 감성 분석 소개\n",
        "\n",
        "비지도 감성 분석은 **Lexicon**을 기반으로 한다. Lexicon은 일반적으로 어휘집을 의미하지만 여기서는 주로 감성만을 분석하기 위해 지원하는 감성 어휘 사전이다. 줄여서 감성 사전으로 표현한다. 감성 사전은 긍정(Positive) 감성 또는 부정(Negative) 감성의 정도를 의미하는 수치를 가지고 있으며 이를 감성 지수(Plarity score)라고 한다. 이 감성 지수는 단어의 위치나 주변 단어, 문맥, POS(Polarity of Speech) 등을 통해 참고해 결정된다. 이러한 감성 사진을 구현한 대표격은 NLTK 패키지이다. NLTK는 많은 서브 모듈을 가지고 있으며 그중 감성 사전인 Lexicon 모듈도 포함되어 있다.\n",
        "\n",
        "감성 사전을 좀 더 상세히 이해하기 위해 NLP 패키지의 WordNet을 먼저 설명한다. NLP에서 제공하는 **WordNet 모듈**은 방대한 영어 어휘 사전이다. WordNet은 단순한 어휘 사전이 아닌 시맨틱 분석을 제공하는 어휘 사전이다. **시맨틱**은 간단히  표현하면 '문맥상 의미'이다.\n",
        "\n",
        "이처럼 WordNet은 다양한 상황에서 같은 어휘라도 다르게 사용되는 어휘의 시맨틱 정보를 제공하며, 이를 위해 각각의 품사(명사, 동사, 형용사, 부사 등)로 구성된 개별 단어를 Synset(Sets of cognitive synonyms)이라는 개념을 이용해 표현한다. **Synset**은 단순한 하나의 단어가 아니라 그 단어가 가지는 문맥, 시맨틱 정보를 제공하는 WordNet의 핵심 개념이다.\n",
        "\n",
        "NLTK의 감성 사전이 감성에 대한 훌륭한 사전 역할을 제공하나, 예측 성능은 그리 좋지 못하다는 단점이 있다. 그 때문에 실제 업무의 적용은 NLTK 패키지가 아닌 다른 감성 사전을 이용한다. NLTK를 포함한 대표적인 감성 사진은 다음과 같다.\n",
        " - **SentiWordNet**: NLTK 패키지의 WordNet과 유사하게 감성 단어 전용의 WordNet을 구현한 것. WordNet의 Synset 개념을 감성 분석에 적용한 것이다. WordNet의 Synset별로 3가지 감성 점수(sentiment score)를 할당한다. 긍정 감성 지수, 부정 감성 지수, 객관성 지수가 그것이다. 긍정 감성 지수는 해당 단어가 감성적으로 얼마나 긍정적인가를, 부정 지수는 얼마나 감성적으로 부정적인가를 수치로 나타낸 것이다. 객관성 지수는 긍정/부정 감성 지수와 완전히 반대되는 개념으로 단어가 감성과 관계없이 얼마나 객관적인지를 수치로 나타낸 것이다. 문장별로 단어들의 긍정 감성 지수와 부정 감성 지수를 합산하여 최종 감성 지수를 계산하고 이에 기반해 감성이 긍정인지 부정인지를 결정한다.\n",
        "\n",
        " - **VADER**: 주로 소셜 미디어의 텍스트에 대한 감성 분석을 제공하기 위한 패키지이다.\n",
        " - **Pattern**: 예측 성능 측면에서 가장 주목받는 패키지이다. 아쉽게도 현재 기준으로 파이썬 3.X 버전에서 호환되지 않는다.\n"
      ]
    },
    {
      "cell_type": "markdown",
      "metadata": {
        "id": "WwWeoCUllo2e"
      },
      "source": [
        "## 4) SentiWordNet을 이용한 감성 분석\n",
        "\n",
        "앞에서 SentiWordNet의 경우는 예측 정확도가 그리 높지 않아서 잘 사용하지 않는다고 말했지만, SentiWordNet을 통해 감성 사전이 전반적으로 어떠한 방식으로 구성되어 있고, 시맨틱기반의 사전 구축 방식을 좀 더 자세히 이해할 수 있기에 WordNet 기반의 시맨틱에 대해서도 페이지를 할애했다."
      ]
    },
    {
      "cell_type": "markdown",
      "metadata": {
        "id": "TMAs3pXIl9yD"
      },
      "source": [
        "### (1) WordNet Synset과 SentiWordNet SentiSynset 클래스의 이해\n",
        "\n",
        "SentiWordNet은 WordNet 기반의 synset을 이용하므로 먼저 synset에 대한 개념을 이해한 후에 SentiWordNet을 살펴본다. 먼저 WordNet을 이용하기 위해서는 NLTK를 셋업한 후에 WordNet 서브패키지와 데이터 세트를 내려받아야 한다."
      ]
    },
    {
      "cell_type": "code",
      "metadata": {
        "colab": {
          "base_uri": "https://localhost:8080/"
        },
        "id": "W4GkGUPemWpT",
        "outputId": "9bef5214-570c-4d3b-e80e-7682044e7d2d"
      },
      "source": [
        "import nltk\n",
        "nltk.download('all')"
      ],
      "execution_count": 6,
      "outputs": [
        {
          "output_type": "stream",
          "name": "stdout",
          "text": [
            "[nltk_data] Downloading collection 'all'\n",
            "[nltk_data]    | \n",
            "[nltk_data]    | Downloading package abc to /root/nltk_data...\n",
            "[nltk_data]    |   Unzipping corpora/abc.zip.\n",
            "[nltk_data]    | Downloading package alpino to /root/nltk_data...\n",
            "[nltk_data]    |   Unzipping corpora/alpino.zip.\n",
            "[nltk_data]    | Downloading package biocreative_ppi to\n",
            "[nltk_data]    |     /root/nltk_data...\n",
            "[nltk_data]    |   Unzipping corpora/biocreative_ppi.zip.\n",
            "[nltk_data]    | Downloading package brown to /root/nltk_data...\n",
            "[nltk_data]    |   Unzipping corpora/brown.zip.\n",
            "[nltk_data]    | Downloading package brown_tei to /root/nltk_data...\n",
            "[nltk_data]    |   Unzipping corpora/brown_tei.zip.\n",
            "[nltk_data]    | Downloading package cess_cat to /root/nltk_data...\n",
            "[nltk_data]    |   Unzipping corpora/cess_cat.zip.\n",
            "[nltk_data]    | Downloading package cess_esp to /root/nltk_data...\n",
            "[nltk_data]    |   Unzipping corpora/cess_esp.zip.\n",
            "[nltk_data]    | Downloading package chat80 to /root/nltk_data...\n",
            "[nltk_data]    |   Unzipping corpora/chat80.zip.\n",
            "[nltk_data]    | Downloading package city_database to\n",
            "[nltk_data]    |     /root/nltk_data...\n",
            "[nltk_data]    |   Unzipping corpora/city_database.zip.\n",
            "[nltk_data]    | Downloading package cmudict to /root/nltk_data...\n",
            "[nltk_data]    |   Unzipping corpora/cmudict.zip.\n",
            "[nltk_data]    | Downloading package comparative_sentences to\n",
            "[nltk_data]    |     /root/nltk_data...\n",
            "[nltk_data]    |   Unzipping corpora/comparative_sentences.zip.\n",
            "[nltk_data]    | Downloading package comtrans to /root/nltk_data...\n",
            "[nltk_data]    | Downloading package conll2000 to /root/nltk_data...\n",
            "[nltk_data]    |   Unzipping corpora/conll2000.zip.\n",
            "[nltk_data]    | Downloading package conll2002 to /root/nltk_data...\n",
            "[nltk_data]    |   Unzipping corpora/conll2002.zip.\n",
            "[nltk_data]    | Downloading package conll2007 to /root/nltk_data...\n",
            "[nltk_data]    | Downloading package crubadan to /root/nltk_data...\n",
            "[nltk_data]    |   Unzipping corpora/crubadan.zip.\n",
            "[nltk_data]    | Downloading package dependency_treebank to\n",
            "[nltk_data]    |     /root/nltk_data...\n",
            "[nltk_data]    |   Unzipping corpora/dependency_treebank.zip.\n",
            "[nltk_data]    | Downloading package dolch to /root/nltk_data...\n",
            "[nltk_data]    |   Unzipping corpora/dolch.zip.\n",
            "[nltk_data]    | Downloading package europarl_raw to\n",
            "[nltk_data]    |     /root/nltk_data...\n",
            "[nltk_data]    |   Unzipping corpora/europarl_raw.zip.\n",
            "[nltk_data]    | Downloading package floresta to /root/nltk_data...\n",
            "[nltk_data]    |   Unzipping corpora/floresta.zip.\n",
            "[nltk_data]    | Downloading package framenet_v15 to\n",
            "[nltk_data]    |     /root/nltk_data...\n",
            "[nltk_data]    |   Unzipping corpora/framenet_v15.zip.\n",
            "[nltk_data]    | Downloading package framenet_v17 to\n",
            "[nltk_data]    |     /root/nltk_data...\n",
            "[nltk_data]    |   Unzipping corpora/framenet_v17.zip.\n",
            "[nltk_data]    | Downloading package gazetteers to /root/nltk_data...\n",
            "[nltk_data]    |   Unzipping corpora/gazetteers.zip.\n",
            "[nltk_data]    | Downloading package genesis to /root/nltk_data...\n",
            "[nltk_data]    |   Unzipping corpora/genesis.zip.\n",
            "[nltk_data]    | Downloading package gutenberg to /root/nltk_data...\n",
            "[nltk_data]    |   Unzipping corpora/gutenberg.zip.\n",
            "[nltk_data]    | Downloading package ieer to /root/nltk_data...\n",
            "[nltk_data]    |   Unzipping corpora/ieer.zip.\n",
            "[nltk_data]    | Downloading package inaugural to /root/nltk_data...\n",
            "[nltk_data]    |   Unzipping corpora/inaugural.zip.\n",
            "[nltk_data]    | Downloading package indian to /root/nltk_data...\n",
            "[nltk_data]    |   Unzipping corpora/indian.zip.\n",
            "[nltk_data]    | Downloading package jeita to /root/nltk_data...\n",
            "[nltk_data]    | Downloading package kimmo to /root/nltk_data...\n",
            "[nltk_data]    |   Unzipping corpora/kimmo.zip.\n",
            "[nltk_data]    | Downloading package knbc to /root/nltk_data...\n",
            "[nltk_data]    | Downloading package lin_thesaurus to\n",
            "[nltk_data]    |     /root/nltk_data...\n",
            "[nltk_data]    |   Unzipping corpora/lin_thesaurus.zip.\n",
            "[nltk_data]    | Downloading package mac_morpho to /root/nltk_data...\n",
            "[nltk_data]    |   Unzipping corpora/mac_morpho.zip.\n",
            "[nltk_data]    | Downloading package machado to /root/nltk_data...\n",
            "[nltk_data]    | Downloading package masc_tagged to /root/nltk_data...\n",
            "[nltk_data]    | Downloading package moses_sample to\n",
            "[nltk_data]    |     /root/nltk_data...\n",
            "[nltk_data]    |   Unzipping models/moses_sample.zip.\n",
            "[nltk_data]    | Downloading package movie_reviews to\n",
            "[nltk_data]    |     /root/nltk_data...\n",
            "[nltk_data]    |   Unzipping corpora/movie_reviews.zip.\n",
            "[nltk_data]    | Downloading package names to /root/nltk_data...\n",
            "[nltk_data]    |   Unzipping corpora/names.zip.\n",
            "[nltk_data]    | Downloading package nombank.1.0 to /root/nltk_data...\n",
            "[nltk_data]    | Downloading package nps_chat to /root/nltk_data...\n",
            "[nltk_data]    |   Unzipping corpora/nps_chat.zip.\n",
            "[nltk_data]    | Downloading package omw to /root/nltk_data...\n",
            "[nltk_data]    |   Unzipping corpora/omw.zip.\n",
            "[nltk_data]    | Downloading package opinion_lexicon to\n",
            "[nltk_data]    |     /root/nltk_data...\n",
            "[nltk_data]    |   Unzipping corpora/opinion_lexicon.zip.\n",
            "[nltk_data]    | Downloading package paradigms to /root/nltk_data...\n",
            "[nltk_data]    |   Unzipping corpora/paradigms.zip.\n",
            "[nltk_data]    | Downloading package pil to /root/nltk_data...\n",
            "[nltk_data]    |   Unzipping corpora/pil.zip.\n",
            "[nltk_data]    | Downloading package pl196x to /root/nltk_data...\n",
            "[nltk_data]    |   Unzipping corpora/pl196x.zip.\n",
            "[nltk_data]    | Downloading package ppattach to /root/nltk_data...\n",
            "[nltk_data]    |   Unzipping corpora/ppattach.zip.\n",
            "[nltk_data]    | Downloading package problem_reports to\n",
            "[nltk_data]    |     /root/nltk_data...\n",
            "[nltk_data]    |   Unzipping corpora/problem_reports.zip.\n",
            "[nltk_data]    | Downloading package propbank to /root/nltk_data...\n",
            "[nltk_data]    | Downloading package ptb to /root/nltk_data...\n",
            "[nltk_data]    |   Unzipping corpora/ptb.zip.\n",
            "[nltk_data]    | Downloading package product_reviews_1 to\n",
            "[nltk_data]    |     /root/nltk_data...\n",
            "[nltk_data]    |   Unzipping corpora/product_reviews_1.zip.\n",
            "[nltk_data]    | Downloading package product_reviews_2 to\n",
            "[nltk_data]    |     /root/nltk_data...\n",
            "[nltk_data]    |   Unzipping corpora/product_reviews_2.zip.\n",
            "[nltk_data]    | Downloading package pros_cons to /root/nltk_data...\n",
            "[nltk_data]    |   Unzipping corpora/pros_cons.zip.\n",
            "[nltk_data]    | Downloading package qc to /root/nltk_data...\n",
            "[nltk_data]    |   Unzipping corpora/qc.zip.\n",
            "[nltk_data]    | Downloading package reuters to /root/nltk_data...\n",
            "[nltk_data]    | Downloading package rte to /root/nltk_data...\n",
            "[nltk_data]    |   Unzipping corpora/rte.zip.\n",
            "[nltk_data]    | Downloading package semcor to /root/nltk_data...\n",
            "[nltk_data]    | Downloading package senseval to /root/nltk_data...\n",
            "[nltk_data]    |   Unzipping corpora/senseval.zip.\n",
            "[nltk_data]    | Downloading package sentiwordnet to\n",
            "[nltk_data]    |     /root/nltk_data...\n",
            "[nltk_data]    |   Unzipping corpora/sentiwordnet.zip.\n",
            "[nltk_data]    | Downloading package sentence_polarity to\n",
            "[nltk_data]    |     /root/nltk_data...\n",
            "[nltk_data]    |   Unzipping corpora/sentence_polarity.zip.\n",
            "[nltk_data]    | Downloading package shakespeare to /root/nltk_data...\n",
            "[nltk_data]    |   Unzipping corpora/shakespeare.zip.\n",
            "[nltk_data]    | Downloading package sinica_treebank to\n",
            "[nltk_data]    |     /root/nltk_data...\n",
            "[nltk_data]    |   Unzipping corpora/sinica_treebank.zip.\n",
            "[nltk_data]    | Downloading package smultron to /root/nltk_data...\n",
            "[nltk_data]    |   Unzipping corpora/smultron.zip.\n",
            "[nltk_data]    | Downloading package state_union to /root/nltk_data...\n",
            "[nltk_data]    |   Unzipping corpora/state_union.zip.\n",
            "[nltk_data]    | Downloading package stopwords to /root/nltk_data...\n",
            "[nltk_data]    |   Unzipping corpora/stopwords.zip.\n",
            "[nltk_data]    | Downloading package subjectivity to\n",
            "[nltk_data]    |     /root/nltk_data...\n",
            "[nltk_data]    |   Unzipping corpora/subjectivity.zip.\n",
            "[nltk_data]    | Downloading package swadesh to /root/nltk_data...\n",
            "[nltk_data]    |   Unzipping corpora/swadesh.zip.\n",
            "[nltk_data]    | Downloading package switchboard to /root/nltk_data...\n",
            "[nltk_data]    |   Unzipping corpora/switchboard.zip.\n",
            "[nltk_data]    | Downloading package timit to /root/nltk_data...\n",
            "[nltk_data]    |   Unzipping corpora/timit.zip.\n",
            "[nltk_data]    | Downloading package toolbox to /root/nltk_data...\n",
            "[nltk_data]    |   Unzipping corpora/toolbox.zip.\n",
            "[nltk_data]    | Downloading package treebank to /root/nltk_data...\n",
            "[nltk_data]    |   Unzipping corpora/treebank.zip.\n",
            "[nltk_data]    | Downloading package twitter_samples to\n",
            "[nltk_data]    |     /root/nltk_data...\n",
            "[nltk_data]    |   Unzipping corpora/twitter_samples.zip.\n",
            "[nltk_data]    | Downloading package udhr to /root/nltk_data...\n",
            "[nltk_data]    |   Unzipping corpora/udhr.zip.\n",
            "[nltk_data]    | Downloading package udhr2 to /root/nltk_data...\n",
            "[nltk_data]    |   Unzipping corpora/udhr2.zip.\n",
            "[nltk_data]    | Downloading package unicode_samples to\n",
            "[nltk_data]    |     /root/nltk_data...\n",
            "[nltk_data]    |   Unzipping corpora/unicode_samples.zip.\n",
            "[nltk_data]    | Downloading package universal_treebanks_v20 to\n",
            "[nltk_data]    |     /root/nltk_data...\n",
            "[nltk_data]    | Downloading package verbnet to /root/nltk_data...\n",
            "[nltk_data]    |   Unzipping corpora/verbnet.zip.\n",
            "[nltk_data]    | Downloading package verbnet3 to /root/nltk_data...\n",
            "[nltk_data]    |   Unzipping corpora/verbnet3.zip.\n",
            "[nltk_data]    | Downloading package webtext to /root/nltk_data...\n",
            "[nltk_data]    |   Unzipping corpora/webtext.zip.\n",
            "[nltk_data]    | Downloading package wordnet to /root/nltk_data...\n",
            "[nltk_data]    |   Unzipping corpora/wordnet.zip.\n",
            "[nltk_data]    | Downloading package wordnet_ic to /root/nltk_data...\n",
            "[nltk_data]    |   Unzipping corpora/wordnet_ic.zip.\n",
            "[nltk_data]    | Downloading package words to /root/nltk_data...\n",
            "[nltk_data]    |   Unzipping corpora/words.zip.\n",
            "[nltk_data]    | Downloading package ycoe to /root/nltk_data...\n",
            "[nltk_data]    |   Unzipping corpora/ycoe.zip.\n",
            "[nltk_data]    | Downloading package rslp to /root/nltk_data...\n",
            "[nltk_data]    |   Unzipping stemmers/rslp.zip.\n",
            "[nltk_data]    | Downloading package maxent_treebank_pos_tagger to\n",
            "[nltk_data]    |     /root/nltk_data...\n",
            "[nltk_data]    |   Unzipping taggers/maxent_treebank_pos_tagger.zip.\n",
            "[nltk_data]    | Downloading package universal_tagset to\n",
            "[nltk_data]    |     /root/nltk_data...\n",
            "[nltk_data]    |   Unzipping taggers/universal_tagset.zip.\n",
            "[nltk_data]    | Downloading package maxent_ne_chunker to\n",
            "[nltk_data]    |     /root/nltk_data...\n",
            "[nltk_data]    |   Unzipping chunkers/maxent_ne_chunker.zip.\n",
            "[nltk_data]    | Downloading package punkt to /root/nltk_data...\n",
            "[nltk_data]    |   Unzipping tokenizers/punkt.zip.\n",
            "[nltk_data]    | Downloading package book_grammars to\n",
            "[nltk_data]    |     /root/nltk_data...\n",
            "[nltk_data]    |   Unzipping grammars/book_grammars.zip.\n",
            "[nltk_data]    | Downloading package sample_grammars to\n",
            "[nltk_data]    |     /root/nltk_data...\n",
            "[nltk_data]    |   Unzipping grammars/sample_grammars.zip.\n",
            "[nltk_data]    | Downloading package spanish_grammars to\n",
            "[nltk_data]    |     /root/nltk_data...\n",
            "[nltk_data]    |   Unzipping grammars/spanish_grammars.zip.\n",
            "[nltk_data]    | Downloading package basque_grammars to\n",
            "[nltk_data]    |     /root/nltk_data...\n",
            "[nltk_data]    |   Unzipping grammars/basque_grammars.zip.\n",
            "[nltk_data]    | Downloading package large_grammars to\n",
            "[nltk_data]    |     /root/nltk_data...\n",
            "[nltk_data]    |   Unzipping grammars/large_grammars.zip.\n",
            "[nltk_data]    | Downloading package tagsets to /root/nltk_data...\n",
            "[nltk_data]    |   Unzipping help/tagsets.zip.\n",
            "[nltk_data]    | Downloading package snowball_data to\n",
            "[nltk_data]    |     /root/nltk_data...\n",
            "[nltk_data]    | Downloading package bllip_wsj_no_aux to\n",
            "[nltk_data]    |     /root/nltk_data...\n",
            "[nltk_data]    |   Unzipping models/bllip_wsj_no_aux.zip.\n",
            "[nltk_data]    | Downloading package word2vec_sample to\n",
            "[nltk_data]    |     /root/nltk_data...\n",
            "[nltk_data]    |   Unzipping models/word2vec_sample.zip.\n",
            "[nltk_data]    | Downloading package panlex_swadesh to\n",
            "[nltk_data]    |     /root/nltk_data...\n",
            "[nltk_data]    | Downloading package mte_teip5 to /root/nltk_data...\n",
            "[nltk_data]    |   Unzipping corpora/mte_teip5.zip.\n",
            "[nltk_data]    | Downloading package averaged_perceptron_tagger to\n",
            "[nltk_data]    |     /root/nltk_data...\n",
            "[nltk_data]    |   Unzipping taggers/averaged_perceptron_tagger.zip.\n",
            "[nltk_data]    | Downloading package averaged_perceptron_tagger_ru to\n",
            "[nltk_data]    |     /root/nltk_data...\n",
            "[nltk_data]    |   Unzipping\n",
            "[nltk_data]    |       taggers/averaged_perceptron_tagger_ru.zip.\n",
            "[nltk_data]    | Downloading package perluniprops to\n",
            "[nltk_data]    |     /root/nltk_data...\n",
            "[nltk_data]    |   Unzipping misc/perluniprops.zip.\n",
            "[nltk_data]    | Downloading package nonbreaking_prefixes to\n",
            "[nltk_data]    |     /root/nltk_data...\n",
            "[nltk_data]    |   Unzipping corpora/nonbreaking_prefixes.zip.\n",
            "[nltk_data]    | Downloading package vader_lexicon to\n",
            "[nltk_data]    |     /root/nltk_data...\n",
            "[nltk_data]    | Downloading package porter_test to /root/nltk_data...\n",
            "[nltk_data]    |   Unzipping stemmers/porter_test.zip.\n",
            "[nltk_data]    | Downloading package wmt15_eval to /root/nltk_data...\n",
            "[nltk_data]    |   Unzipping models/wmt15_eval.zip.\n",
            "[nltk_data]    | Downloading package mwa_ppdb to /root/nltk_data...\n",
            "[nltk_data]    |   Unzipping misc/mwa_ppdb.zip.\n",
            "[nltk_data]    | \n",
            "[nltk_data]  Done downloading collection all\n"
          ]
        },
        {
          "output_type": "execute_result",
          "data": {
            "text/plain": [
              "True"
            ]
          },
          "metadata": {},
          "execution_count": 6
        }
      ]
    },
    {
      "cell_type": "markdown",
      "metadata": {
        "id": "FLxLc2DEmboH"
      },
      "source": [
        "NLTK의 모든 데이터 세트를 내려 받은 뒤에 WordNet 모듈을 임포트해 'present' 단어에 대한 Synset을 추출한다. WordNet의 synsets( )는 파라미터로 지정된 단어에 대해 WordNet에 등재된 모든 Synset 객체를 반환한다."
      ]
    },
    {
      "cell_type": "code",
      "metadata": {
        "colab": {
          "base_uri": "https://localhost:8080/"
        },
        "id": "XkH8Js9rmo2o",
        "outputId": "1d8ac8ea-69b6-4725-e5cf-d8e06db7c597"
      },
      "source": [
        "from nltk.corpus import wordnet as wn\n",
        "\n",
        "term = 'present'\n",
        "\n",
        "# 'present'라는 단어로 wordnet의 synsets 생성.\n",
        "synsets = wn.synsets(term)\n",
        "print('synset() 반환 type :', type(synsets))\n",
        "print('synset() 반환 값 개수:', len(synsets))\n",
        "print('synset() 반환 값 :', synsets)"
      ],
      "execution_count": null,
      "outputs": [
        {
          "output_type": "stream",
          "name": "stdout",
          "text": [
            "synset() 반환 type : <class 'list'>\n",
            "synset() 반환 값 개수: 18\n",
            "synset() 반환 값 : [Synset('present.n.01'), Synset('present.n.02'), Synset('present.n.03'), Synset('show.v.01'), Synset('present.v.02'), Synset('stage.v.01'), Synset('present.v.04'), Synset('present.v.05'), Synset('award.v.01'), Synset('give.v.08'), Synset('deliver.v.01'), Synset('introduce.v.01'), Synset('portray.v.04'), Synset('confront.v.03'), Synset('present.v.12'), Synset('salute.v.06'), Synset('present.a.01'), Synset('present.a.02')]\n"
          ]
        }
      ]
    },
    {
      "cell_type": "markdown",
      "metadata": {
        "id": "PD56DQAqnO5p"
      },
      "source": [
        "synset 객체가 가지는 여러 가지 속성을 살펴본다. Synset은 POS(Part of Speech로 우리말로 바꾸면 품사이다), 정의(Definition), 부명제(Lemma) 등으로 시맨틱적 요소를 표현할 수 있다."
      ]
    },
    {
      "cell_type": "code",
      "metadata": {
        "colab": {
          "base_uri": "https://localhost:8080/"
        },
        "id": "tCzeeZz5pFE2",
        "outputId": "6fd7910c-27f2-40a7-bf81-3f89f952bb60"
      },
      "source": [
        "for synset in synsets:\n",
        "  print('##### Synset name : ', synset.name(), '#####')\n",
        "  print('POS :', synset.lexname())\n",
        "  print('Definition:', synset.definition())\n",
        "  print('Lemmas:', synset.lemma_names())"
      ],
      "execution_count": null,
      "outputs": [
        {
          "output_type": "stream",
          "name": "stdout",
          "text": [
            "##### Synset name :  present.n.01 #####\n",
            "POS : noun.time\n",
            "Definition: the period of time that is happening now; any continuous stretch of time including the moment of speech\n",
            "Lemmas: ['present', 'nowadays']\n",
            "##### Synset name :  present.n.02 #####\n",
            "POS : noun.possession\n",
            "Definition: something presented as a gift\n",
            "Lemmas: ['present']\n",
            "##### Synset name :  present.n.03 #####\n",
            "POS : noun.communication\n",
            "Definition: a verb tense that expresses actions or states at the time of speaking\n",
            "Lemmas: ['present', 'present_tense']\n",
            "##### Synset name :  show.v.01 #####\n",
            "POS : verb.perception\n",
            "Definition: give an exhibition of to an interested audience\n",
            "Lemmas: ['show', 'demo', 'exhibit', 'present', 'demonstrate']\n",
            "##### Synset name :  present.v.02 #####\n",
            "POS : verb.communication\n",
            "Definition: bring forward and present to the mind\n",
            "Lemmas: ['present', 'represent', 'lay_out']\n",
            "##### Synset name :  stage.v.01 #####\n",
            "POS : verb.creation\n",
            "Definition: perform (a play), especially on a stage\n",
            "Lemmas: ['stage', 'present', 'represent']\n",
            "##### Synset name :  present.v.04 #####\n",
            "POS : verb.possession\n",
            "Definition: hand over formally\n",
            "Lemmas: ['present', 'submit']\n",
            "##### Synset name :  present.v.05 #####\n",
            "POS : verb.stative\n",
            "Definition: introduce\n",
            "Lemmas: ['present', 'pose']\n",
            "##### Synset name :  award.v.01 #####\n",
            "POS : verb.possession\n",
            "Definition: give, especially as an honor or reward\n",
            "Lemmas: ['award', 'present']\n",
            "##### Synset name :  give.v.08 #####\n",
            "POS : verb.possession\n",
            "Definition: give as a present; make a gift of\n",
            "Lemmas: ['give', 'gift', 'present']\n",
            "##### Synset name :  deliver.v.01 #####\n",
            "POS : verb.communication\n",
            "Definition: deliver (a speech, oration, or idea)\n",
            "Lemmas: ['deliver', 'present']\n",
            "##### Synset name :  introduce.v.01 #####\n",
            "POS : verb.communication\n",
            "Definition: cause to come to know personally\n",
            "Lemmas: ['introduce', 'present', 'acquaint']\n",
            "##### Synset name :  portray.v.04 #####\n",
            "POS : verb.creation\n",
            "Definition: represent abstractly, for example in a painting, drawing, or sculpture\n",
            "Lemmas: ['portray', 'present']\n",
            "##### Synset name :  confront.v.03 #####\n",
            "POS : verb.communication\n",
            "Definition: present somebody with something, usually to accuse or criticize\n",
            "Lemmas: ['confront', 'face', 'present']\n",
            "##### Synset name :  present.v.12 #####\n",
            "POS : verb.communication\n",
            "Definition: formally present a debutante, a representative of a country, etc.\n",
            "Lemmas: ['present']\n",
            "##### Synset name :  salute.v.06 #####\n",
            "POS : verb.communication\n",
            "Definition: recognize with a gesture prescribed by a military regulation; assume a prescribed position\n",
            "Lemmas: ['salute', 'present']\n",
            "##### Synset name :  present.a.01 #####\n",
            "POS : adj.all\n",
            "Definition: temporal sense; intermediate between past and future; now existing or happening or in consideration\n",
            "Lemmas: ['present']\n",
            "##### Synset name :  present.a.02 #####\n",
            "POS : adj.all\n",
            "Definition: being or existing in a specified place\n",
            "Lemmas: ['present']\n"
          ]
        }
      ]
    },
    {
      "cell_type": "markdown",
      "metadata": {
        "id": "pfCTlvhKpc22"
      },
      "source": [
        "이처럼 synset은 하나의 단어가 가질 수 있는 여러 가지 시맨틱 정보를 개별 클래스로 나타낸 것이다.\n",
        "\n",
        "WordNet은 어떤 어휘와 다른 어휘 간의 관계를 유사도로 나타낼 수 있다. synset 객체는 단어간 유사도를 나타내기 위해서 **path_similarity( )** 메서드를 제공한다."
      ]
    },
    {
      "cell_type": "code",
      "metadata": {
        "colab": {
          "base_uri": "https://localhost:8080/",
          "height": 204
        },
        "id": "6x8qwacVp2fr",
        "outputId": "3c96ff1e-1d2a-44ba-c462-d9c7dcd00131"
      },
      "source": [
        "import pandas as pd\n",
        "\n",
        "# synset 객체를 단어별로 생성한다.\n",
        "tree = wn.synset('tree.n.01')\n",
        "lion = wn.synset('lion.n.01')\n",
        "tiger = wn.synset('tiger.n.02')\n",
        "cat = wn.synset('cat.n.01')\n",
        "dog = wn.synset('dog.n.01')\n",
        "\n",
        "entities = [tree, lion, tiger, cat, dog]\n",
        "similarities = []\n",
        "entity_names = [entity.name().split('.')[0] for entity in entities]\n",
        "\n",
        "# 단어별 synset을 반복하면서 다른 단어의 synset과 유사도를 측정한다.\n",
        "for entity in entities:\n",
        "  similarity = [round(entity.path_similarity(compared_entity), 2) for compared_entity in entities]\n",
        "  similarities.append(similarity)\n",
        "\n",
        "# 개별 단어별 synset과 다른 단어의 synset과의 유사도를 DataFrame 형태로 저장한다.\n",
        "similarity_df = pd.DataFrame(similarities, columns = entity_names, index=entity_names)\n",
        "similarity_df"
      ],
      "execution_count": null,
      "outputs": [
        {
          "output_type": "execute_result",
          "data": {
            "text/html": [
              "<div>\n",
              "<style scoped>\n",
              "    .dataframe tbody tr th:only-of-type {\n",
              "        vertical-align: middle;\n",
              "    }\n",
              "\n",
              "    .dataframe tbody tr th {\n",
              "        vertical-align: top;\n",
              "    }\n",
              "\n",
              "    .dataframe thead th {\n",
              "        text-align: right;\n",
              "    }\n",
              "</style>\n",
              "<table border=\"1\" class=\"dataframe\">\n",
              "  <thead>\n",
              "    <tr style=\"text-align: right;\">\n",
              "      <th></th>\n",
              "      <th>tree</th>\n",
              "      <th>lion</th>\n",
              "      <th>tiger</th>\n",
              "      <th>cat</th>\n",
              "      <th>dog</th>\n",
              "    </tr>\n",
              "  </thead>\n",
              "  <tbody>\n",
              "    <tr>\n",
              "      <th>tree</th>\n",
              "      <td>1.00</td>\n",
              "      <td>0.07</td>\n",
              "      <td>0.07</td>\n",
              "      <td>0.08</td>\n",
              "      <td>0.12</td>\n",
              "    </tr>\n",
              "    <tr>\n",
              "      <th>lion</th>\n",
              "      <td>0.07</td>\n",
              "      <td>1.00</td>\n",
              "      <td>0.33</td>\n",
              "      <td>0.25</td>\n",
              "      <td>0.17</td>\n",
              "    </tr>\n",
              "    <tr>\n",
              "      <th>tiger</th>\n",
              "      <td>0.07</td>\n",
              "      <td>0.33</td>\n",
              "      <td>1.00</td>\n",
              "      <td>0.25</td>\n",
              "      <td>0.17</td>\n",
              "    </tr>\n",
              "    <tr>\n",
              "      <th>cat</th>\n",
              "      <td>0.08</td>\n",
              "      <td>0.25</td>\n",
              "      <td>0.25</td>\n",
              "      <td>1.00</td>\n",
              "      <td>0.20</td>\n",
              "    </tr>\n",
              "    <tr>\n",
              "      <th>dog</th>\n",
              "      <td>0.12</td>\n",
              "      <td>0.17</td>\n",
              "      <td>0.17</td>\n",
              "      <td>0.20</td>\n",
              "      <td>1.00</td>\n",
              "    </tr>\n",
              "  </tbody>\n",
              "</table>\n",
              "</div>"
            ],
            "text/plain": [
              "       tree  lion  tiger   cat   dog\n",
              "tree   1.00  0.07   0.07  0.08  0.12\n",
              "lion   0.07  1.00   0.33  0.25  0.17\n",
              "tiger  0.07  0.33   1.00  0.25  0.17\n",
              "cat    0.08  0.25   0.25  1.00  0.20\n",
              "dog    0.12  0.17   0.17  0.20  1.00"
            ]
          },
          "metadata": {},
          "execution_count": 5
        }
      ]
    },
    {
      "cell_type": "markdown",
      "metadata": {
        "id": "ja3Hi_OGrn0y"
      },
      "source": [
        "SentiWordNet은 WordNet의 Synset과 유사한 Senti_Synset 클래스를 가지고 있다. SentiWordNet 모듈의 senti_synsets( )는 WordNet 모듈이라서 synsets( )와 비슷하게 Senti_Synset 클래스를 리스트 형태로 반환한다."
      ]
    },
    {
      "cell_type": "code",
      "metadata": {
        "colab": {
          "base_uri": "https://localhost:8080/"
        },
        "id": "jSUP1Mafr26U",
        "outputId": "be111678-4871-4dae-d965-de3f97fdcf7f"
      },
      "source": [
        "import nltk\n",
        "from nltk.corpus import sentiwordnet as swn\n",
        "\n",
        "senti_synsets = list(swn.senti_synsets('slow'))\n",
        "print('senti_synsets() 반환 type :', type(senti_synsets))\n",
        "print('senti_synsets() 반환 값 개수 :', len(senti_synsets))\n",
        "print('senti_synsets() 반환 값 :', senti_synsets)"
      ],
      "execution_count": null,
      "outputs": [
        {
          "output_type": "stream",
          "name": "stdout",
          "text": [
            "senti_synsets() 반환 type : <class 'list'>\n",
            "senti_synsets() 반환 값 개수 : 11\n",
            "senti_synsets() 반환 값 : [SentiSynset('decelerate.v.01'), SentiSynset('slow.v.02'), SentiSynset('slow.v.03'), SentiSynset('slow.a.01'), SentiSynset('slow.a.02'), SentiSynset('dense.s.04'), SentiSynset('slow.a.04'), SentiSynset('boring.s.01'), SentiSynset('dull.s.08'), SentiSynset('slowly.r.01'), SentiSynset('behind.r.03')]\n"
          ]
        }
      ]
    },
    {
      "cell_type": "markdown",
      "metadata": {
        "id": "1MHsk_wIsX2P"
      },
      "source": [
        "SentiSynset 객체는 단어의 감성을 나타내는 감성 지수와 객관성을(감성과 반대) 나타내는 객관성 지수를 가지고 있다. 감성 지수는 다시 긍정 감성 지수와 부정 감성 지수로 나뉜다. 어떤 단어가 전혀 감성적이지 않으면 객관성 지수는 1이 되고, 감성 지수는 모두 0이 된다."
      ]
    },
    {
      "cell_type": "code",
      "metadata": {
        "colab": {
          "base_uri": "https://localhost:8080/"
        },
        "id": "upaFTQe6yFW8",
        "outputId": "b840735b-6c09-462b-c29c-616282aeb5aa"
      },
      "source": [
        "import nltk\n",
        "from nltk.corpus import sentiwordnet as swn\n",
        "\n",
        "father = swn.senti_synset('father.n.01')\n",
        "print('father 긍정감성 지수: ', father.pos_score())\n",
        "print('father 부정감성 지수: ', father.neg_score())\n",
        "print('father 객관성 지수: ', father.obj_score())\n",
        "print('\\n')\n",
        "fabulous = swn.senti_synset('fabulous.a.01')\n",
        "print('fabulous 긍정감성 지수: ',fabulous.pos_score())\n",
        "print('fabulous 부정감성 지수: ',fabulous.neg_score())"
      ],
      "execution_count": null,
      "outputs": [
        {
          "output_type": "stream",
          "name": "stdout",
          "text": [
            "father 긍정감성 지수:  0.0\n",
            "father 부정감성 지수:  0.0\n",
            "father 객관성 지수:  1.0\n",
            "\n",
            "\n",
            "fabulous 긍정감성 지수:  0.875\n",
            "fabulous 부정감성 지수:  0.125\n"
          ]
        }
      ]
    },
    {
      "cell_type": "markdown",
      "metadata": {
        "id": "k22QxnCCyxEV"
      },
      "source": [
        "### (2) SentiWordNet을 이용한 영화 감상평 감성 분석\n",
        "\n",
        "SentiWordNet을 이용해 감성 분석을 수행하는 개략적인 순서는 다음과 같다.\n",
        "1. 문서(Document)를 문장(Sentence) 단위로 분해\n",
        "2. 다시 문장을 단어(Word) 단위로 토큰화하고 품사 태깅\n",
        "3. 품사 태깅된 단어 기반으로 synset 객체와 senti_synset 객체를 생성\n",
        "4. Senti_synset에서 긍정 감성/부정 감성 지수를 구하고 이를 모두 합산해 특정 임계치 값 이상일 때 긍정 감성으로, 그렇지 않을 때는 부정 감성으로 결정\n",
        "\n",
        "SentiWordNet을 이용하기 위해서 WordNet을 이용해 문서를 다시 단어로 토큰화한 뒤 어근 추출(Lemmatization)과 품사 태깅(POS Tagging)을 적용해야 한다. 먼저 품사 태깅을 수행하는 내부 함수를 생성한다."
      ]
    },
    {
      "cell_type": "code",
      "metadata": {
        "id": "ImLQCSsiz2NF"
      },
      "source": [
        "from nltk.corpus import wordnet as wn\n",
        "\n",
        "# 간단한 NLTK PennTreebank Tag를 기반으로 WordNet기반의 품사 Tag로 변환\n",
        "def penn_to_wn(tag):\n",
        "  if tag.startswith('J'):\n",
        "    return wn.ADJ\n",
        "  elif tag.startswith('N'):\n",
        "    return wn.NOUN\n",
        "  elif tag.startswith('R'):\n",
        "    return wn.ADV\n",
        "  elif tag.startswith('V'):\n",
        "    return wn.VERB"
      ],
      "execution_count": null,
      "outputs": []
    },
    {
      "cell_type": "markdown",
      "metadata": {
        "id": "p1UK_7kH0ZDs"
      },
      "source": [
        "이제 문서를 문장 -> 단어 토큰 -> 품사 태깅 후에 SentiSynset 클래스를 생성하고 Polarity Score를 합산하는 함수를 생성한다."
      ]
    },
    {
      "cell_type": "code",
      "metadata": {
        "id": "96wZmR6n0W0p"
      },
      "source": [
        "from nltk.stem import WordNetLemmatizer\n",
        "from nltk.corpus import sentiwordnet as swn\n",
        "from nltk import sent_tokenize, word_tokenize, pos_tag\n",
        "\n",
        "def swn_polarity(text):\n",
        "  # 감성 지수 초기화\n",
        "  sentiment = 0.0\n",
        "  tokens_count = 0\n",
        "\n",
        "  lemmatizer = WordNetLemmatizer()\n",
        "  raw_sentences = sent_tokenize(text)\n",
        "  # 분해된 문장별로 단어 토큰 -> 품사 태깅 후에 SentiSynset 생성 -> 감성 지수 합산\n",
        "  for raw_sentence in raw_sentences:\n",
        "    # NLTK 기반의 품사 태깅 문장 추출\n",
        "    tagged_sentence = pos_tag(word_tokenize(raw_sentence))\n",
        "    for word, tag in tagged_sentence:\n",
        "\n",
        "      # WordNet 기반 품사 태깅과 어근 추출\n",
        "      wn_tag = penn_to_wn(tag)\n",
        "      if wn_tag not in (wn.NOUN, wn.ADJ, wn.ADV):\n",
        "        continue\n",
        "      lemma = lemmatizer.lemmatize(word, pos=wn_tag)\n",
        "      if not lemma:\n",
        "        continue\n",
        "\n",
        "      # 어근을 추출한 단어와 WordNet 기반 품사 태깅을 입력해 Synset 객체를 생성.\n",
        "      synsets = wn.synsets(lemma, pos=wn_tag)\n",
        "      if not synsets:\n",
        "        continue\n",
        "      # sentiwordnet의 감성 단어 분석으로 감성 synset 추출\n",
        "      # 모든 단어에 대해 긍정 감성 지수는 +로 부정 감성 지수는 -로 합산해 감성 지수 계산.\n",
        "      synset = synsets[0]\n",
        "      swn_synset = swn.senti_synset(synset.name())\n",
        "      sentiment += (swn_synset.pos_score() - swn_synset.neg_score())\n",
        "      tokens_count += 1\n",
        "\n",
        "  if not tokens_count:\n",
        "    return 0\n",
        "\n",
        "  # 총 score가 0 이상일 경우 긍정(Positive) 1, 그렇지 않을 경우 부정(Negative) 0 반환\n",
        "  if sentiment >= 0 :\n",
        "    return 1\n",
        "\n",
        "  return 0"
      ],
      "execution_count": null,
      "outputs": []
    },
    {
      "cell_type": "markdown",
      "metadata": {
        "id": "re1h_5v432DS"
      },
      "source": [
        "이렇게 생성한 swn_polarity(text) 함수를 IMDB 감상평의 개별 문서에 적용해 긍정 및 부정 감성을 예측한다. 판다스이 apply lambda 구문을 이용해 swn_polarity(text)를 개별 감상평 텍스트에 적용한다."
      ]
    },
    {
      "cell_type": "code",
      "metadata": {
        "id": "KuEKNuC-4DSX"
      },
      "source": [
        "review_df['preds'] = review_df['review'].apply(lambda x: swn_polarity(x))\n",
        "y_target = review_df['sentiment'].values\n",
        "preds = review_df['preds'].values"
      ],
      "execution_count": null,
      "outputs": []
    },
    {
      "cell_type": "markdown",
      "metadata": {
        "id": "_VA81r6S4nTb"
      },
      "source": [
        "SentiWordNet의 감성 분석 예측 성능을 살펴본다."
      ]
    },
    {
      "cell_type": "code",
      "metadata": {
        "colab": {
          "base_uri": "https://localhost:8080/"
        },
        "id": "6qmJhvBq4pvQ",
        "outputId": "3ca0b0ed-7978-4f54-a970-e897a724f41f"
      },
      "source": [
        "from sklearn.metrics import accuracy_score, confusion_matrix, precision_score\n",
        "from sklearn.metrics import recall_score, f1_score, roc_auc_score\n",
        "import numpy as np\n",
        "\n",
        "print(confusion_matrix(y_target, preds))\n",
        "print('정확도:', np.round(accuracy_score(y_target, preds), 4))\n",
        "print('정밀도:', np.round(precision_score(y_target, preds), 4))\n",
        "print('재현율:', np.round(recall_score(y_target, preds), 4))"
      ],
      "execution_count": null,
      "outputs": [
        {
          "output_type": "stream",
          "name": "stdout",
          "text": [
            "[[7668 4832]\n",
            " [3636 8864]]\n",
            "정확도: 0.6613\n",
            "정밀도: 0.6472\n",
            "재현율: 0.7091\n"
          ]
        }
      ]
    },
    {
      "cell_type": "markdown",
      "metadata": {
        "id": "ucx_LOhVviRL"
      },
      "source": [
        "## 5) VADER를 이용한 감성 분석\n",
        "\n",
        "또 다른 Lexicon인 VADER Lexicon을 살펴본다. **VADER**는 소셜 미디어의 감성 분석 용도로 만들어진 룰 기반의 Lexicon입니다. VADER는 **SentimentIntensityAnalyzer 클래스**를 이용해 쉽게 감성 분석을 제공한다.\n",
        "\n",
        "VADER의 간단한 사용법을 살펴본다. NLTK 서브 모듈로 SentimentIntensityAnalyzer를 임포트하고 간략하게 IMDB의 감상평 한 개만 감성 분석을 수행해 결과를 확인한다.\n",
        "\n",
        "VADER의 경우 지속적으로 버전이 업데이트되므로 설치한 VADER 버전에 따라 다음 예제 결과와 다른 결과가 출력될 수 있다."
      ]
    },
    {
      "cell_type": "code",
      "metadata": {
        "colab": {
          "base_uri": "https://localhost:8080/"
        },
        "id": "eUDdVPM9yI_E",
        "outputId": "a28abce8-1dc9-439f-f4b3-157ae9139968"
      },
      "source": [
        "from nltk.sentiment.vader import SentimentIntensityAnalyzer\n",
        "\n",
        "senti_analyzer = SentimentIntensityAnalyzer()\n",
        "senti_scores = senti_analyzer.polarity_scores(review_df['review'][0])\n",
        "print(senti_scores)"
      ],
      "execution_count": null,
      "outputs": [
        {
          "output_type": "stream",
          "name": "stdout",
          "text": [
            "{'neg': 0.13, 'neu': 0.743, 'pos': 0.127, 'compound': -0.7943}\n"
          ]
        }
      ]
    },
    {
      "cell_type": "markdown",
      "metadata": {
        "id": "f-OFPKHDy2_M"
      },
      "source": [
        "VADER를 이용해 쉽게 감성 분석을 수행할 수 있다. 먼저 SentimentIntensityAnalyzer 객체를 생성한 뒤에 문서별로 polarity_scores( ) 메서드를 호추랳 감성 점수를 구한 뒤, 해당 문서의 감성 점수가 특정 임계값 이상이면 긍정, 그렇지 않으면 부정으로 판단한다. polarity_scores( ) 메서드는 딕셔너리 형태의 감성 점수를 반환한다. 'neg'는 부정 감성 지수, 'neu'는 중립적인 감성 지수, 'pos'는 긍정 감성 지수, 그리고 compound는 neg, neu, pos score를 적절히 조합해 -1에서 1 사이의 감성 지수를 표현한 값이다. compound score를 기반으로 부정 감성 또는 긍정 감성 여부를 결정한다. 보통 0.1 이상이면 긍정 감성, 그 이하면 부정 감성으로 판단한다."
      ]
    },
    {
      "cell_type": "markdown",
      "metadata": {
        "id": "u00qu5-LzahN"
      },
      "source": [
        "VADER를 이용해 IMDB의 감성 분석을 수행한다. 이를 위해 vader_polarity( ) 함수를 새로 만든다. vader_polarity( ) 함수는 입력 파라미터로 영화 감상평 텍스트와 긍정/부정을 결정하는 임곗값(threshold)을 가지고, SentimentIntensityAnalyzer 객체의 polarity_scores( ) 메서드를 호출해 감성 결과를 반환한다."
      ]
    },
    {
      "cell_type": "code",
      "metadata": {
        "colab": {
          "base_uri": "https://localhost:8080/"
        },
        "id": "H6qESCdF09PF",
        "outputId": "897ebc1e-27e0-41ab-d6ac-15fdcf063e30"
      },
      "source": [
        "def vader_polarity(review, threshold=0.1):\n",
        "  analyzer = SentimentIntensityAnalyzer()\n",
        "  scores = analyzer.polarity_scores(review)\n",
        "\n",
        "  # compound 값에 기반해 threshold 입력값보다 크면 1, 그렇지 않으면 0을 반환\n",
        "  agg_score = scores['compound']\n",
        "  final_sentiment = 1 if agg_score >= threshold else 0\n",
        "  return final_sentiment\n",
        "\n",
        "# apply lambda 식을 이용해 레코드별로 vader_polarity( )를 수행하고 그 결과를 'vader_preds'에 저장\n",
        "review_df['vader_preds'] = review_df['review'].apply(lambda x : vader_polarity(x, 0.1))\n",
        "y_target = review_df['sentiment'].values\n",
        "vader_preds = review_df['vader_preds'].values\n",
        "\n",
        "print(confusion_matrix(y_target, vader_preds))\n",
        "print('정확도:', np.round(accuracy_score(y_target, vader_preds), 4))\n",
        "print('정밀도:', np.round(precision_score(y_target, vader_preds), 4))\n",
        "print('재현율:', np.round(recall_score(y_target, vader_preds), 4))"
      ],
      "execution_count": null,
      "outputs": [
        {
          "output_type": "stream",
          "name": "stdout",
          "text": [
            "[[ 6736  5764]\n",
            " [ 1867 10633]]\n",
            "정확도: 0.6948\n",
            "정밀도: 0.6485\n",
            "재현율: 0.8506\n"
          ]
        }
      ]
    },
    {
      "cell_type": "markdown",
      "metadata": {
        "id": "fW3dBg1iaCf2"
      },
      "source": [
        "# 6. 토픽 모델링(Topic Modeling) - 20 뉴스그룹\n",
        "\n",
        "토픽 모델링(Topic Modeling)이란 문서 집합에 숨어 있는 주제를 찾아내는 것이다. 사람이 수행하는 토픽 모델링은 더 함축적인 의미로 문장을 요약하는 것에 반해, 머신러닝 기반의 토픽 모델은 숨겨진 주제를 효과저으로 표현할 수 있는 중심 단어를 함축적으로 추출한다.\n",
        "\n",
        "머신러닝 기반의 토픽 모델링에 자주 사용되는 기법은 LSA(Latent Semantic Analysis)와 LDA(Latent Dirichlet Allocation)이다. 이 절에서는 LDA만을 이용해 토픽 모델리을 수행한다.\n",
        "\n",
        "사이킷런은 LDA(Latent Dirichlet Allocation) 기반의 토픽 모델링을 /**LatentDirichletAllocation 클래스**를 통해 제공한다.\n",
        "\n",
        "먼저 LDA 토픽 모델리을 위해 fetch_20newsgroups( ) API는 categories 파라미터를 통해 필요한 주제만 필터링해 추출하고 추출된 텍스트를 Count 기반으로 벡터화 변환한다. LDA는 Count 기반의 벡터화만 사용한다."
      ]
    },
    {
      "cell_type": "code",
      "metadata": {
        "colab": {
          "base_uri": "https://localhost:8080/"
        },
        "id": "nIf_l19sepVB",
        "outputId": "1301e969-7dfd-446c-eafc-5255cb887c2f"
      },
      "source": [
        "from sklearn.datasets import fetch_20newsgroups\n",
        "from sklearn.feature_extraction.text import CountVectorizer\n",
        "from sklearn.decomposition import LatentDirichletAllocation\n",
        "\n",
        "# 모토사이클, 야구, 그래픽스, 윈도우즈, 중동, 기독교, 전자공학, 의학 8개 주제를 추출.\n",
        "cats = ['rec.motorcycles', 'rec.sport.baseball', 'comp.graphics','comp.windows.x', 'talk.politics.mideast', 'soc.religion.christian', 'sci.electronics', 'sci.med']\n",
        "\n",
        "# 위에서 cats 변수로 기재된 카테고리만 추출. fetch_20newsgroups( )의 categories에 cats 입력\n",
        "news_df = fetch_20newsgroups(subset='all', remove=('headers', 'footers', 'quotes'), categories=cats, random_state=0)\n",
        "\n",
        "# LDA는 Count 기반의 벡터화만 적용한다.\n",
        "count_vect = CountVectorizer(max_df=0.95, max_features=1000, min_df=2, stop_words='english', ngram_range=(1, 2))\n",
        "\n",
        "feat_vect = count_vect.fit_transform(news_df.data)\n",
        "print('CountVectorizer Shape:', feat_vect.shape)"
      ],
      "execution_count": null,
      "outputs": [
        {
          "output_type": "stream",
          "name": "stderr",
          "text": [
            "Downloading 20news dataset. This may take a few minutes.\n",
            "Downloading dataset from https://ndownloader.figshare.com/files/5975967 (14 MB)\n"
          ]
        },
        {
          "output_type": "stream",
          "name": "stdout",
          "text": [
            "CountVectorizer Shape: (7862, 1000)\n"
          ]
        }
      ]
    },
    {
      "cell_type": "markdown",
      "metadata": {
        "id": "xP9B3TX2f5Vc"
      },
      "source": [
        "CountVectorizer 객체 변수인 feat_vect 모두 7862개 문서가 1000개의 피처로 구성된 행렬 데이터이다. 이렇게 피처 벡터화된 데이터 세트를 기반으로 LDA 토픽 모델링을 수행한다. 토픽의 개수큰 위의 뉴스 그룹에서 추출한 주제와 동일한 8개로 정한다."
      ]
    },
    {
      "cell_type": "code",
      "metadata": {
        "colab": {
          "base_uri": "https://localhost:8080/"
        },
        "id": "fUNTu-oygJGx",
        "outputId": "3786cdde-9a30-4f97-ab7a-c737b5bad414"
      },
      "source": [
        "lda = LatentDirichletAllocation(n_components=8, random_state=0)\n",
        "lda.fit(feat_vect)"
      ],
      "execution_count": null,
      "outputs": [
        {
          "output_type": "execute_result",
          "data": {
            "text/plain": [
              "LatentDirichletAllocation(batch_size=128, doc_topic_prior=None,\n",
              "                          evaluate_every=-1, learning_decay=0.7,\n",
              "                          learning_method='batch', learning_offset=10.0,\n",
              "                          max_doc_update_iter=100, max_iter=10,\n",
              "                          mean_change_tol=0.001, n_components=8, n_jobs=None,\n",
              "                          perp_tol=0.1, random_state=0, topic_word_prior=None,\n",
              "                          total_samples=1000000.0, verbose=0)"
            ]
          },
          "metadata": {},
          "execution_count": 2
        }
      ]
    },
    {
      "cell_type": "markdown",
      "metadata": {
        "id": "pCjU66_KgQOp"
      },
      "source": [
        "LatentDirichletAllocation.fit(데이터 세트)을 수행하면 LatentDirichletAllocation 객체는 components_ 속성값을 가지게 된다. components는 개별 토픽별로 각 word 피처가 얼마나 많이 그 토픽에 할당됐는지에 대한 수치를 가진다. 높은 값일수록 해당 word 피처는 그 토픽의 중심 word가 된다. components_의 형태와 속성값을 확인한다."
      ]
    },
    {
      "cell_type": "code",
      "metadata": {
        "colab": {
          "base_uri": "https://localhost:8080/"
        },
        "id": "M2FJOzPMgnat",
        "outputId": "94b40c60-32e6-41dc-fae8-75c0c56b2343"
      },
      "source": [
        "print(lda.components_.shape)\n",
        "lda.components_"
      ],
      "execution_count": null,
      "outputs": [
        {
          "output_type": "stream",
          "name": "stdout",
          "text": [
            "(8, 1000)\n"
          ]
        },
        {
          "output_type": "execute_result",
          "data": {
            "text/plain": [
              "array([[3.60992018e+01, 1.35626798e+02, 2.15751867e+01, ...,\n",
              "        3.02911688e+01, 8.66830093e+01, 6.79285199e+01],\n",
              "       [1.25199920e-01, 1.44401815e+01, 1.25045596e-01, ...,\n",
              "        1.81506995e+02, 1.25097844e-01, 9.39593286e+01],\n",
              "       [3.34762663e+02, 1.25176265e-01, 1.46743299e+02, ...,\n",
              "        1.25105772e-01, 3.63689741e+01, 1.25025218e-01],\n",
              "       ...,\n",
              "       [3.60204965e+01, 2.08640688e+01, 4.29606813e+00, ...,\n",
              "        1.45056650e+01, 8.33854413e+00, 1.55690009e+01],\n",
              "       [1.25128711e-01, 1.25247756e-01, 1.25005143e-01, ...,\n",
              "        9.17278769e+01, 1.25177668e-01, 3.74575887e+01],\n",
              "       [5.49258690e+01, 4.47009532e+00, 9.88524814e+00, ...,\n",
              "        4.87048440e+01, 1.25034678e-01, 1.25074632e-01]])"
            ]
          },
          "metadata": {},
          "execution_count": 4
        }
      ]
    },
    {
      "cell_type": "markdown",
      "metadata": {
        "id": "EoBg37k-gz39"
      },
      "source": [
        "components_는 array[8, 4000]으로 구성되어 있다. 8개의 토픽별로 1000개의 word 피처가 해당 토픽별로 연관도 값을 가지고 있다.\n",
        "\n",
        "lda_model.components_ 값만으로는 각 토픽별 word 연관도를 보기가 어렵다. display_topics( ) 함수를 만들어서 각 토픽별로 연관도가 높은 순으로 Word를 나열해 본다."
      ]
    },
    {
      "cell_type": "code",
      "metadata": {
        "colab": {
          "base_uri": "https://localhost:8080/"
        },
        "id": "uieqPl_Ggzvo",
        "outputId": "e48135f2-4923-44f1-85e8-01f3c42e6a80"
      },
      "source": [
        "def display_topics(model, feature_names, no_top_words):\n",
        "  for topic_index, topic in enumerate(model.components_):\n",
        "    print('Topic #', topic_index)\n",
        "\n",
        "    # components_ array 에서 가장 값이 큰 순으로 정렬했을 때, 그 값의 array 인덱스를 반환.\n",
        "    topic_word_indexes = topic.argsort()[::-1]\n",
        "    top_indexes = topic_word_indexes[:no_top_words]\n",
        "\n",
        "    # top_indexes대상인 인덱스별로 feature_names에 해당하는 word feature 추출 후 join으로 concat\n",
        "    feature_concat = ' '.join([feature_names[i] for i in top_indexes])\n",
        "    print(feature_concat)\n",
        "\n",
        "# CountVectorizer 객체 내 전체 word의 명칭을 get_features_names( )를 통해 추출\n",
        "feature_names = count_vect.get_feature_names()\n",
        "\n",
        "# 토픽별 가장 연관도가 높은 word를 15개만 추출\n",
        "display_topics(lda, feature_names, 15)"
      ],
      "execution_count": null,
      "outputs": [
        {
          "output_type": "stream",
          "name": "stdout",
          "text": [
            "Topic # 0\n",
            "year 10 game medical health team 12 20 disease cancer 1993 games years patients good\n",
            "Topic # 1\n",
            "don just like know people said think time ve didn right going say ll way\n",
            "Topic # 2\n",
            "image file jpeg program gif images output format files color entry 00 use bit 03\n",
            "Topic # 3\n",
            "like know don think use does just good time book read information people used post\n",
            "Topic # 4\n",
            "armenian israel armenians jews turkish people israeli jewish government war dos dos turkey arab armenia 000\n",
            "Topic # 5\n",
            "edu com available graphics ftp data pub motif mail widget software mit information version sun\n",
            "Topic # 6\n",
            "god people jesus church believe christ does christian say think christians bible faith sin life\n",
            "Topic # 7\n",
            "use dos thanks windows using window does display help like problem server need know run\n"
          ]
        }
      ]
    },
    {
      "cell_type": "markdown",
      "metadata": {
        "id": "xc6oVxv2zsVQ"
      },
      "source": [
        "# 7. 문서 군집화 소개와 실습(Opinion Review 데이터 세트)\n"
      ]
    },
    {
      "cell_type": "markdown",
      "metadata": {
        "id": "Sj4bq5JSzxya"
      },
      "source": [
        "## 1) 문서 군집화 개념\n",
        "\n",
        "**문서 군집화(Document Clustering)**는 비슷한 텍스트 구성의 문서를 군집화(Clustering)하는 것이다. 문서 군집화는 앞에서 소개한 텍스트 분류 기반의 문서 분류와 유사하다. 하지만 텍스트 분류 기반의 문서 분류는 사전에 결정 카테고리 값을 가진 학습 데이터 세트가 필요한 데 반해, 문서 군집화는 학습 데이터 세트가 필요 없는 비지도학습 기반으로 동작한다. 이전 장에서 배운 군집화 기법으 활용해 텍스트 기반의 문서 군집화를 적용한다."
      ]
    },
    {
      "cell_type": "markdown",
      "metadata": {
        "id": "ZSccOd9309uo"
      },
      "source": [
        "## 2) Opinion Review 데이터 세트를 이용한 문서 군집화 수행하기\n",
        "\n",
        "데이터 세트는 https://archive.ics.uci.edu/ml/datasets/Opinosis+Opinion+%26frasl%3B+Review 에서 내려받을 수 있다.\n",
        "\n",
        "이번 예제에서는 여러 개의 파일을 한 개의 DataFrame으로 로딩해 데이터 처리를 할 것이다. 해당 디렉터리 내에 있는 파일을 하나씩 읽어서 파일명과 파일 리뷰를 하나의 DataFrame으로 로드하여 파일명별로 어떤 리뷰를 담고 있는지 개략적으로 살펴본다."
      ]
    },
    {
      "cell_type": "code",
      "metadata": {
        "colab": {
          "base_uri": "https://localhost:8080/",
          "height": 204
        },
        "id": "YrXgaq8t31Zt",
        "outputId": "9d263658-fca9-427e-90bf-3f38db43a8cd"
      },
      "source": [
        "import pandas as pd\n",
        "import glob, os\n",
        "\n",
        "# 다음은 저자의 컴퓨터에서 압축 팔일을 풀어놓은 디렉터리이니, 각자 디렉터리를 다시 설정한다.\n",
        "path = r'/content/drive/MyDrive/데이터분석/파이썬머신러닝완벽가이드/OpinosisDataset1.0/topics'\n",
        "\n",
        "# path로 지정한 디렉터리 밑에 있는 모든 .data 파일의 파일명을 리스트로 취합.\n",
        "all_files = glob.glob(os.path.join(path, '*.data'))\n",
        "filename_list = []\n",
        "opinion_text = []\n",
        "\n",
        "# 개별 파일의 파일명은 filename_list로 취합\n",
        "# 개별 파일의 파일 내용은 DataFrame 로딩 후 다시 string으로 변환해 opinion_text list로 취합\n",
        "for file_ in all_files:\n",
        "  # 개별 파일을 읽어서 DataFrame으로 생성\n",
        "  df = pd.read_table(file_, index_col=None, header=0, encoding='latin1')\n",
        "\n",
        "  # 절대 경로로 주어진 파일명을 가공. 리눅스, 맥에서 수행할 때는 다음 \\\\를 /로 변경.\n",
        "  # 맨 마지막 .data 확장자도 제거\n",
        "  filename_ = file_.split('/')[-1]\n",
        "  filename = filename_.split('.')[0]\n",
        "\n",
        "  # 파일명 list와 파일 내용 list에 파일명과 파일 내용을 추가.\n",
        "  filename_list.append(filename)\n",
        "  opinion_text.append(df.to_string())\n",
        "\n",
        "# 파일명 list와 파일 내용 list 객체를 DataFrame으로 생성\n",
        "document_df = pd.DataFrame({'filename':filename_list, 'opinion_text': opinion_text})\n",
        "document_df.head()"
      ],
      "execution_count": 7,
      "outputs": [
        {
          "output_type": "execute_result",
          "data": {
            "text/html": [
              "<div>\n",
              "<style scoped>\n",
              "    .dataframe tbody tr th:only-of-type {\n",
              "        vertical-align: middle;\n",
              "    }\n",
              "\n",
              "    .dataframe tbody tr th {\n",
              "        vertical-align: top;\n",
              "    }\n",
              "\n",
              "    .dataframe thead th {\n",
              "        text-align: right;\n",
              "    }\n",
              "</style>\n",
              "<table border=\"1\" class=\"dataframe\">\n",
              "  <thead>\n",
              "    <tr style=\"text-align: right;\">\n",
              "      <th></th>\n",
              "      <th>filename</th>\n",
              "      <th>opinion_text</th>\n",
              "    </tr>\n",
              "  </thead>\n",
              "  <tbody>\n",
              "    <tr>\n",
              "      <th>0</th>\n",
              "      <td>battery-life_ipod_nano_8gb</td>\n",
              "      <td>...</td>\n",
              "    </tr>\n",
              "    <tr>\n",
              "      <th>1</th>\n",
              "      <td>screen_garmin_nuvi_255W_gps</td>\n",
              "      <td>...</td>\n",
              "    </tr>\n",
              "    <tr>\n",
              "      <th>2</th>\n",
              "      <td>screen_ipod_nano_8gb</td>\n",
              "      <td>...</td>\n",
              "    </tr>\n",
              "    <tr>\n",
              "      <th>3</th>\n",
              "      <td>size_asus_netbook_1005ha</td>\n",
              "      <td>...</td>\n",
              "    </tr>\n",
              "    <tr>\n",
              "      <th>4</th>\n",
              "      <td>satellite_garmin_nuvi_255W_gps</td>\n",
              "      <td>...</td>\n",
              "    </tr>\n",
              "  </tbody>\n",
              "</table>\n",
              "</div>"
            ],
            "text/plain": [
              "                         filename                                       opinion_text\n",
              "0      battery-life_ipod_nano_8gb                                                ...\n",
              "1     screen_garmin_nuvi_255W_gps                                                ...\n",
              "2            screen_ipod_nano_8gb                                                ...\n",
              "3        size_asus_netbook_1005ha                                                ...\n",
              "4  satellite_garmin_nuvi_255W_gps                                                ..."
            ]
          },
          "metadata": {},
          "execution_count": 7
        }
      ]
    },
    {
      "cell_type": "markdown",
      "metadata": {
        "id": "lzayarTF7HxY"
      },
      "source": [
        "문서를 TF-IDF 형태로 피처 벡터화한다. tokenizer는 이전 예제에서 Lemmatization을 구현한 LemNormalize( ) 함수를 이용한다.\n"
      ]
    },
    {
      "cell_type": "code",
      "metadata": {
        "id": "FkD3vae8KH2F"
      },
      "source": [
        "from nltk.stem import WordNetLemmatizer\n",
        "import nltk\n",
        "import string\n",
        "\n",
        "remove_punct_dict = dict((ord(punct), None) for punct in string.punctuation)\n",
        "lemmar = WordNetLemmatizer()\n",
        "\n",
        "def LemTokens(tokens):\n",
        "    return [lemmar.lemmatize(token) for token in tokens]\n",
        "\n",
        "def LemNormalize(text):\n",
        "    return LemTokens(nltk.word_tokenize(text.lower().translate(remove_punct_dict)))"
      ],
      "execution_count": 8,
      "outputs": []
    },
    {
      "cell_type": "code",
      "metadata": {
        "colab": {
          "base_uri": "https://localhost:8080/"
        },
        "id": "WYlWST_7Kai5",
        "outputId": "b61be4ee-7db5-4ba4-f540-15d79263fe61"
      },
      "source": [
        "from sklearn.feature_extraction.text import TfidfVectorizer\n",
        "\n",
        "tfidf_vect = TfidfVectorizer(tokenizer=LemNormalize, stop_words='english', ngram_range=(1, 2), min_df=0.05, max_df=0.85)\n",
        "# opinion_text 칼럼 값으로 피처 벡터화 수행\n",
        "feature_vect = tfidf_vect.fit_transform(document_df['opinion_text'])"
      ],
      "execution_count": 9,
      "outputs": [
        {
          "output_type": "stream",
          "name": "stderr",
          "text": [
            "/usr/local/lib/python3.7/dist-packages/sklearn/feature_extraction/text.py:385: UserWarning: Your stop_words may be inconsistent with your preprocessing. Tokenizing the stop words generated tokens ['ha', 'le', 'u', 'wa'] not in stop_words.\n",
            "  'stop_words.' % sorted(inconsistent))\n"
          ]
        }
      ]
    },
    {
      "cell_type": "markdown",
      "metadata": {
        "id": "0HYyM3uxK9rq"
      },
      "source": [
        "문서별 텍스트가 TF-IDF 변환된 피처 벡터화 행렬 데이터에 대해서 군집화를 수행해 어떤 문서끼리 군집되는지 확인한다. 군집화 기법은 K-평균을 적용한다.\n",
        "\n",
        "먼저 5개의 중심(Centeroid) 기반으로 어떻게 군집화되는지 확인한다. KMeans를 수행한 후에 군집의 Label 값과 중심별로 할당된 데이터 세트의 좌표 값을 구한다."
      ]
    },
    {
      "cell_type": "code",
      "metadata": {
        "id": "7Vi2Ro7cLZur"
      },
      "source": [
        "from sklearn.cluster import KMeans\n",
        "\n",
        "# 5개 집합으로 군집화 수행.\n",
        "km_cluster = KMeans(n_clusters=5, max_iter=10000, random_state=0)\n",
        "km_cluster.fit(feature_vect)\n",
        "cluster_label = km_cluster.labels_\n",
        "cluster_centers = km_cluster.cluster_centers_"
      ],
      "execution_count": 11,
      "outputs": []
    },
    {
      "cell_type": "markdown",
      "metadata": {
        "id": "21AAF2N3LQyT"
      },
      "source": [
        "각 데이터별로 할당된 군집의 레이블을 파일명과 파일 내용을 가지고 있는 document_df DataFrame에 'cluster_label' 칼럼을 추가해 저장한다. 각 파일명은 의견 리뷰에 대한 주제를 나타낸다."
      ]
    },
    {
      "cell_type": "code",
      "metadata": {
        "colab": {
          "base_uri": "https://localhost:8080/",
          "height": 142
        },
        "id": "cdSj7b-aL_Ce",
        "outputId": "587dd4dd-c7a5-4581-b37a-f9145a7eb6c6"
      },
      "source": [
        "document_df['cluster_label'] = cluster_label\n",
        "document_df.head(3)"
      ],
      "execution_count": 12,
      "outputs": [
        {
          "output_type": "execute_result",
          "data": {
            "text/html": [
              "<div>\n",
              "<style scoped>\n",
              "    .dataframe tbody tr th:only-of-type {\n",
              "        vertical-align: middle;\n",
              "    }\n",
              "\n",
              "    .dataframe tbody tr th {\n",
              "        vertical-align: top;\n",
              "    }\n",
              "\n",
              "    .dataframe thead th {\n",
              "        text-align: right;\n",
              "    }\n",
              "</style>\n",
              "<table border=\"1\" class=\"dataframe\">\n",
              "  <thead>\n",
              "    <tr style=\"text-align: right;\">\n",
              "      <th></th>\n",
              "      <th>filename</th>\n",
              "      <th>opinion_text</th>\n",
              "      <th>cluster_label</th>\n",
              "    </tr>\n",
              "  </thead>\n",
              "  <tbody>\n",
              "    <tr>\n",
              "      <th>0</th>\n",
              "      <td>battery-life_ipod_nano_8gb</td>\n",
              "      <td>...</td>\n",
              "      <td>0</td>\n",
              "    </tr>\n",
              "    <tr>\n",
              "      <th>1</th>\n",
              "      <td>screen_garmin_nuvi_255W_gps</td>\n",
              "      <td>...</td>\n",
              "      <td>3</td>\n",
              "    </tr>\n",
              "    <tr>\n",
              "      <th>2</th>\n",
              "      <td>screen_ipod_nano_8gb</td>\n",
              "      <td>...</td>\n",
              "      <td>0</td>\n",
              "    </tr>\n",
              "  </tbody>\n",
              "</table>\n",
              "</div>"
            ],
            "text/plain": [
              "                      filename  ... cluster_label\n",
              "0   battery-life_ipod_nano_8gb  ...             0\n",
              "1  screen_garmin_nuvi_255W_gps  ...             3\n",
              "2         screen_ipod_nano_8gb  ...             0\n",
              "\n",
              "[3 rows x 3 columns]"
            ]
          },
          "metadata": {},
          "execution_count": 12
        }
      ]
    },
    {
      "cell_type": "markdown",
      "metadata": {
        "id": "HDX2KRCkMLUx"
      },
      "source": [
        "판다스 DataFrame의 sort_values(by=정렬칼럼명)를 수행하면 인자로 입력된 '정렬칼럼명'으로 데이터를 정렬할 수 있다. Cluster #0은 호텔에 대한 리뷰로 군집화된 걸 볼 수 있다."
      ]
    },
    {
      "cell_type": "code",
      "metadata": {
        "colab": {
          "base_uri": "https://localhost:8080/",
          "height": 545
        },
        "id": "-exG_eY0MjYS",
        "outputId": "6f5cfe42-b5be-43b2-e11c-34369422955b"
      },
      "source": [
        "document_df[document_df['cluster_label']==0].sort_values(by='filename')"
      ],
      "execution_count": 15,
      "outputs": [
        {
          "output_type": "execute_result",
          "data": {
            "text/html": [
              "<div>\n",
              "<style scoped>\n",
              "    .dataframe tbody tr th:only-of-type {\n",
              "        vertical-align: middle;\n",
              "    }\n",
              "\n",
              "    .dataframe tbody tr th {\n",
              "        vertical-align: top;\n",
              "    }\n",
              "\n",
              "    .dataframe thead th {\n",
              "        text-align: right;\n",
              "    }\n",
              "</style>\n",
              "<table border=\"1\" class=\"dataframe\">\n",
              "  <thead>\n",
              "    <tr style=\"text-align: right;\">\n",
              "      <th></th>\n",
              "      <th>filename</th>\n",
              "      <th>opinion_text</th>\n",
              "      <th>cluster_label</th>\n",
              "    </tr>\n",
              "  </thead>\n",
              "  <tbody>\n",
              "    <tr>\n",
              "      <th>36</th>\n",
              "      <td>battery-life_amazon_kindle</td>\n",
              "      <td>...</td>\n",
              "      <td>0</td>\n",
              "    </tr>\n",
              "    <tr>\n",
              "      <th>0</th>\n",
              "      <td>battery-life_ipod_nano_8gb</td>\n",
              "      <td>...</td>\n",
              "      <td>0</td>\n",
              "    </tr>\n",
              "    <tr>\n",
              "      <th>10</th>\n",
              "      <td>battery-life_netbook_1005ha</td>\n",
              "      <td>...</td>\n",
              "      <td>0</td>\n",
              "    </tr>\n",
              "    <tr>\n",
              "      <th>30</th>\n",
              "      <td>buttons_amazon_kindle</td>\n",
              "      <td>...</td>\n",
              "      <td>0</td>\n",
              "    </tr>\n",
              "    <tr>\n",
              "      <th>33</th>\n",
              "      <td>eyesight-issues_amazon_kindle</td>\n",
              "      <td>...</td>\n",
              "      <td>0</td>\n",
              "    </tr>\n",
              "    <tr>\n",
              "      <th>23</th>\n",
              "      <td>fonts_amazon_kindle</td>\n",
              "      <td>...</td>\n",
              "      <td>0</td>\n",
              "    </tr>\n",
              "    <tr>\n",
              "      <th>14</th>\n",
              "      <td>keyboard_netbook_1005ha</td>\n",
              "      <td>...</td>\n",
              "      <td>0</td>\n",
              "    </tr>\n",
              "    <tr>\n",
              "      <th>22</th>\n",
              "      <td>navigation_amazon_kindle</td>\n",
              "      <td>...</td>\n",
              "      <td>0</td>\n",
              "    </tr>\n",
              "    <tr>\n",
              "      <th>20</th>\n",
              "      <td>performance_netbook_1005ha</td>\n",
              "      <td>...</td>\n",
              "      <td>0</td>\n",
              "    </tr>\n",
              "    <tr>\n",
              "      <th>28</th>\n",
              "      <td>price_amazon_kindle</td>\n",
              "      <td>...</td>\n",
              "      <td>0</td>\n",
              "    </tr>\n",
              "    <tr>\n",
              "      <th>2</th>\n",
              "      <td>screen_ipod_nano_8gb</td>\n",
              "      <td>...</td>\n",
              "      <td>0</td>\n",
              "    </tr>\n",
              "    <tr>\n",
              "      <th>13</th>\n",
              "      <td>screen_netbook_1005ha</td>\n",
              "      <td>...</td>\n",
              "      <td>0</td>\n",
              "    </tr>\n",
              "    <tr>\n",
              "      <th>3</th>\n",
              "      <td>size_asus_netbook_1005ha</td>\n",
              "      <td>...</td>\n",
              "      <td>0</td>\n",
              "    </tr>\n",
              "    <tr>\n",
              "      <th>12</th>\n",
              "      <td>sound_ipod_nano_8gb</td>\n",
              "      <td>headphone jack i got a clear case for it a...</td>\n",
              "      <td>0</td>\n",
              "    </tr>\n",
              "    <tr>\n",
              "      <th>6</th>\n",
              "      <td>speed_windows7</td>\n",
              "      <td>...</td>\n",
              "      <td>0</td>\n",
              "    </tr>\n",
              "    <tr>\n",
              "      <th>11</th>\n",
              "      <td>video_ipod_nano_8gb</td>\n",
              "      <td>...</td>\n",
              "      <td>0</td>\n",
              "    </tr>\n",
              "  </tbody>\n",
              "</table>\n",
              "</div>"
            ],
            "text/plain": [
              "                         filename  ... cluster_label\n",
              "36     battery-life_amazon_kindle  ...             0\n",
              "0      battery-life_ipod_nano_8gb  ...             0\n",
              "10    battery-life_netbook_1005ha  ...             0\n",
              "30          buttons_amazon_kindle  ...             0\n",
              "33  eyesight-issues_amazon_kindle  ...             0\n",
              "23            fonts_amazon_kindle  ...             0\n",
              "14        keyboard_netbook_1005ha  ...             0\n",
              "22       navigation_amazon_kindle  ...             0\n",
              "20     performance_netbook_1005ha  ...             0\n",
              "28            price_amazon_kindle  ...             0\n",
              "2            screen_ipod_nano_8gb  ...             0\n",
              "13          screen_netbook_1005ha  ...             0\n",
              "3        size_asus_netbook_1005ha  ...             0\n",
              "12            sound_ipod_nano_8gb  ...             0\n",
              "6                  speed_windows7  ...             0\n",
              "11            video_ipod_nano_8gb  ...             0\n",
              "\n",
              "[16 rows x 3 columns]"
            ]
          },
          "metadata": {},
          "execution_count": 15
        }
      ]
    },
    {
      "cell_type": "markdown",
      "metadata": {
        "id": "oZ6TjGO6OV1I"
      },
      "source": [
        "3개의 집합으로 군집화한 것이다."
      ]
    },
    {
      "cell_type": "code",
      "metadata": {
        "colab": {
          "base_uri": "https://localhost:8080/",
          "height": 1000
        },
        "id": "613fE3m7OTRE",
        "outputId": "430088fc-3754-49c7-fc0f-905a94964a04"
      },
      "source": [
        "from sklearn.cluster import KMeans\n",
        "\n",
        "# 3개의 집합으로 군집화 \n",
        "km_cluster = KMeans(n_clusters=3, max_iter=10000, random_state=0)\n",
        "km_cluster.fit(feature_vect)\n",
        "cluster_label = km_cluster.labels_\n",
        "\n",
        "\n",
        "# 소속 클러스터를 cluster_label 컬럼으로 할당하고 cluster_label 값으로 정렬\n",
        "document_df['cluster_label'] = cluster_label\n",
        "document_df.sort_values(by='cluster_label')\n"
      ],
      "execution_count": 17,
      "outputs": [
        {
          "output_type": "execute_result",
          "data": {
            "text/html": [
              "<div>\n",
              "<style scoped>\n",
              "    .dataframe tbody tr th:only-of-type {\n",
              "        vertical-align: middle;\n",
              "    }\n",
              "\n",
              "    .dataframe tbody tr th {\n",
              "        vertical-align: top;\n",
              "    }\n",
              "\n",
              "    .dataframe thead th {\n",
              "        text-align: right;\n",
              "    }\n",
              "</style>\n",
              "<table border=\"1\" class=\"dataframe\">\n",
              "  <thead>\n",
              "    <tr style=\"text-align: right;\">\n",
              "      <th></th>\n",
              "      <th>filename</th>\n",
              "      <th>opinion_text</th>\n",
              "      <th>cluster_label</th>\n",
              "    </tr>\n",
              "  </thead>\n",
              "  <tbody>\n",
              "    <tr>\n",
              "      <th>50</th>\n",
              "      <td>bathroom_bestwestern_hotel_sfo</td>\n",
              "      <td>...</td>\n",
              "      <td>0</td>\n",
              "    </tr>\n",
              "    <tr>\n",
              "      <th>19</th>\n",
              "      <td>food_holiday_inn_london</td>\n",
              "      <td>...</td>\n",
              "      <td>0</td>\n",
              "    </tr>\n",
              "    <tr>\n",
              "      <th>24</th>\n",
              "      <td>service_swissotel_hotel_chicago</td>\n",
              "      <td>...</td>\n",
              "      <td>0</td>\n",
              "    </tr>\n",
              "    <tr>\n",
              "      <th>26</th>\n",
              "      <td>room_holiday_inn_london</td>\n",
              "      <td>...</td>\n",
              "      <td>0</td>\n",
              "    </tr>\n",
              "    <tr>\n",
              "      <th>27</th>\n",
              "      <td>service_holiday_inn_london</td>\n",
              "      <td>...</td>\n",
              "      <td>0</td>\n",
              "    </tr>\n",
              "    <tr>\n",
              "      <th>29</th>\n",
              "      <td>price_holiday_inn_london</td>\n",
              "      <td>...</td>\n",
              "      <td>0</td>\n",
              "    </tr>\n",
              "    <tr>\n",
              "      <th>32</th>\n",
              "      <td>location_holiday_inn_london</td>\n",
              "      <td>...</td>\n",
              "      <td>0</td>\n",
              "    </tr>\n",
              "    <tr>\n",
              "      <th>34</th>\n",
              "      <td>rooms_swissotel_chicago</td>\n",
              "      <td>...</td>\n",
              "      <td>0</td>\n",
              "    </tr>\n",
              "    <tr>\n",
              "      <th>21</th>\n",
              "      <td>food_swissotel_chicago</td>\n",
              "      <td>...</td>\n",
              "      <td>0</td>\n",
              "    </tr>\n",
              "    <tr>\n",
              "      <th>37</th>\n",
              "      <td>service_bestwestern_hotel_sfo</td>\n",
              "      <td>...</td>\n",
              "      <td>0</td>\n",
              "    </tr>\n",
              "    <tr>\n",
              "      <th>38</th>\n",
              "      <td>location_bestwestern_hotel_sfo</td>\n",
              "      <td>...</td>\n",
              "      <td>0</td>\n",
              "    </tr>\n",
              "    <tr>\n",
              "      <th>41</th>\n",
              "      <td>rooms_bestwestern_hotel_sfo</td>\n",
              "      <td>...</td>\n",
              "      <td>0</td>\n",
              "    </tr>\n",
              "    <tr>\n",
              "      <th>42</th>\n",
              "      <td>staff_bestwestern_hotel_sfo</td>\n",
              "      <td>...</td>\n",
              "      <td>0</td>\n",
              "    </tr>\n",
              "    <tr>\n",
              "      <th>44</th>\n",
              "      <td>parking_bestwestern_hotel_sfo</td>\n",
              "      <td>...</td>\n",
              "      <td>0</td>\n",
              "    </tr>\n",
              "    <tr>\n",
              "      <th>48</th>\n",
              "      <td>free_bestwestern_hotel_sfo</td>\n",
              "      <td>...</td>\n",
              "      <td>0</td>\n",
              "    </tr>\n",
              "    <tr>\n",
              "      <th>35</th>\n",
              "      <td>staff_swissotel_chicago</td>\n",
              "      <td>...</td>\n",
              "      <td>0</td>\n",
              "    </tr>\n",
              "    <tr>\n",
              "      <th>36</th>\n",
              "      <td>battery-life_amazon_kindle</td>\n",
              "      <td>...</td>\n",
              "      <td>1</td>\n",
              "    </tr>\n",
              "    <tr>\n",
              "      <th>22</th>\n",
              "      <td>navigation_amazon_kindle</td>\n",
              "      <td>...</td>\n",
              "      <td>1</td>\n",
              "    </tr>\n",
              "    <tr>\n",
              "      <th>30</th>\n",
              "      <td>buttons_amazon_kindle</td>\n",
              "      <td>...</td>\n",
              "      <td>1</td>\n",
              "    </tr>\n",
              "    <tr>\n",
              "      <th>28</th>\n",
              "      <td>price_amazon_kindle</td>\n",
              "      <td>...</td>\n",
              "      <td>1</td>\n",
              "    </tr>\n",
              "    <tr>\n",
              "      <th>23</th>\n",
              "      <td>fonts_amazon_kindle</td>\n",
              "      <td>...</td>\n",
              "      <td>1</td>\n",
              "    </tr>\n",
              "    <tr>\n",
              "      <th>33</th>\n",
              "      <td>eyesight-issues_amazon_kindle</td>\n",
              "      <td>...</td>\n",
              "      <td>1</td>\n",
              "    </tr>\n",
              "    <tr>\n",
              "      <th>0</th>\n",
              "      <td>battery-life_ipod_nano_8gb</td>\n",
              "      <td>...</td>\n",
              "      <td>1</td>\n",
              "    </tr>\n",
              "    <tr>\n",
              "      <th>7</th>\n",
              "      <td>updates_garmin_nuvi_255W_gps</td>\n",
              "      <td>...</td>\n",
              "      <td>1</td>\n",
              "    </tr>\n",
              "    <tr>\n",
              "      <th>4</th>\n",
              "      <td>satellite_garmin_nuvi_255W_gps</td>\n",
              "      <td>...</td>\n",
              "      <td>1</td>\n",
              "    </tr>\n",
              "    <tr>\n",
              "      <th>5</th>\n",
              "      <td>features_windows7</td>\n",
              "      <td>...</td>\n",
              "      <td>1</td>\n",
              "    </tr>\n",
              "    <tr>\n",
              "      <th>6</th>\n",
              "      <td>speed_windows7</td>\n",
              "      <td>...</td>\n",
              "      <td>1</td>\n",
              "    </tr>\n",
              "    <tr>\n",
              "      <th>20</th>\n",
              "      <td>performance_netbook_1005ha</td>\n",
              "      <td>...</td>\n",
              "      <td>1</td>\n",
              "    </tr>\n",
              "    <tr>\n",
              "      <th>8</th>\n",
              "      <td>voice_garmin_nuvi_255W_gps</td>\n",
              "      <td>...</td>\n",
              "      <td>1</td>\n",
              "    </tr>\n",
              "    <tr>\n",
              "      <th>9</th>\n",
              "      <td>directions_garmin_nuvi_255W_gps</td>\n",
              "      <td>...</td>\n",
              "      <td>1</td>\n",
              "    </tr>\n",
              "    <tr>\n",
              "      <th>3</th>\n",
              "      <td>size_asus_netbook_1005ha</td>\n",
              "      <td>...</td>\n",
              "      <td>1</td>\n",
              "    </tr>\n",
              "    <tr>\n",
              "      <th>11</th>\n",
              "      <td>video_ipod_nano_8gb</td>\n",
              "      <td>...</td>\n",
              "      <td>1</td>\n",
              "    </tr>\n",
              "    <tr>\n",
              "      <th>10</th>\n",
              "      <td>battery-life_netbook_1005ha</td>\n",
              "      <td>...</td>\n",
              "      <td>1</td>\n",
              "    </tr>\n",
              "    <tr>\n",
              "      <th>12</th>\n",
              "      <td>sound_ipod_nano_8gb</td>\n",
              "      <td>headphone jack i got a clear case for it a...</td>\n",
              "      <td>1</td>\n",
              "    </tr>\n",
              "    <tr>\n",
              "      <th>13</th>\n",
              "      <td>screen_netbook_1005ha</td>\n",
              "      <td>...</td>\n",
              "      <td>1</td>\n",
              "    </tr>\n",
              "    <tr>\n",
              "      <th>14</th>\n",
              "      <td>keyboard_netbook_1005ha</td>\n",
              "      <td>...</td>\n",
              "      <td>1</td>\n",
              "    </tr>\n",
              "    <tr>\n",
              "      <th>15</th>\n",
              "      <td>accuracy_garmin_nuvi_255W_gps</td>\n",
              "      <td>...</td>\n",
              "      <td>1</td>\n",
              "    </tr>\n",
              "    <tr>\n",
              "      <th>16</th>\n",
              "      <td>speed_garmin_nuvi_255W_gps</td>\n",
              "      <td>...</td>\n",
              "      <td>1</td>\n",
              "    </tr>\n",
              "    <tr>\n",
              "      <th>1</th>\n",
              "      <td>screen_garmin_nuvi_255W_gps</td>\n",
              "      <td>...</td>\n",
              "      <td>1</td>\n",
              "    </tr>\n",
              "    <tr>\n",
              "      <th>17</th>\n",
              "      <td>display_garmin_nuvi_255W_gps</td>\n",
              "      <td>...</td>\n",
              "      <td>1</td>\n",
              "    </tr>\n",
              "    <tr>\n",
              "      <th>2</th>\n",
              "      <td>screen_ipod_nano_8gb</td>\n",
              "      <td>...</td>\n",
              "      <td>1</td>\n",
              "    </tr>\n",
              "    <tr>\n",
              "      <th>46</th>\n",
              "      <td>performance_honda_accord_2008</td>\n",
              "      <td>...</td>\n",
              "      <td>2</td>\n",
              "    </tr>\n",
              "    <tr>\n",
              "      <th>45</th>\n",
              "      <td>transmission_toyota_camry_2007</td>\n",
              "      <td>...</td>\n",
              "      <td>2</td>\n",
              "    </tr>\n",
              "    <tr>\n",
              "      <th>47</th>\n",
              "      <td>quality_toyota_camry_2007</td>\n",
              "      <td>...</td>\n",
              "      <td>2</td>\n",
              "    </tr>\n",
              "    <tr>\n",
              "      <th>18</th>\n",
              "      <td>comfort_toyota_camry_2007</td>\n",
              "      <td>...</td>\n",
              "      <td>2</td>\n",
              "    </tr>\n",
              "    <tr>\n",
              "      <th>40</th>\n",
              "      <td>comfort_honda_accord_2008</td>\n",
              "      <td>...</td>\n",
              "      <td>2</td>\n",
              "    </tr>\n",
              "    <tr>\n",
              "      <th>39</th>\n",
              "      <td>mileage_honda_accord_2008</td>\n",
              "      <td>...</td>\n",
              "      <td>2</td>\n",
              "    </tr>\n",
              "    <tr>\n",
              "      <th>31</th>\n",
              "      <td>gas_mileage_toyota_camry_2007</td>\n",
              "      <td>...</td>\n",
              "      <td>2</td>\n",
              "    </tr>\n",
              "    <tr>\n",
              "      <th>49</th>\n",
              "      <td>interior_honda_accord_2008</td>\n",
              "      <td>...</td>\n",
              "      <td>2</td>\n",
              "    </tr>\n",
              "    <tr>\n",
              "      <th>43</th>\n",
              "      <td>seats_honda_accord_2008</td>\n",
              "      <td>...</td>\n",
              "      <td>2</td>\n",
              "    </tr>\n",
              "    <tr>\n",
              "      <th>25</th>\n",
              "      <td>interior_toyota_camry_2007</td>\n",
              "      <td>...</td>\n",
              "      <td>2</td>\n",
              "    </tr>\n",
              "  </tbody>\n",
              "</table>\n",
              "</div>"
            ],
            "text/plain": [
              "                           filename  ... cluster_label\n",
              "50   bathroom_bestwestern_hotel_sfo  ...             0\n",
              "19          food_holiday_inn_london  ...             0\n",
              "24  service_swissotel_hotel_chicago  ...             0\n",
              "26          room_holiday_inn_london  ...             0\n",
              "27       service_holiday_inn_london  ...             0\n",
              "29         price_holiday_inn_london  ...             0\n",
              "32      location_holiday_inn_london  ...             0\n",
              "34          rooms_swissotel_chicago  ...             0\n",
              "21           food_swissotel_chicago  ...             0\n",
              "37    service_bestwestern_hotel_sfo  ...             0\n",
              "38   location_bestwestern_hotel_sfo  ...             0\n",
              "41      rooms_bestwestern_hotel_sfo  ...             0\n",
              "42      staff_bestwestern_hotel_sfo  ...             0\n",
              "44    parking_bestwestern_hotel_sfo  ...             0\n",
              "48       free_bestwestern_hotel_sfo  ...             0\n",
              "35          staff_swissotel_chicago  ...             0\n",
              "36       battery-life_amazon_kindle  ...             1\n",
              "22         navigation_amazon_kindle  ...             1\n",
              "30            buttons_amazon_kindle  ...             1\n",
              "28              price_amazon_kindle  ...             1\n",
              "23              fonts_amazon_kindle  ...             1\n",
              "33    eyesight-issues_amazon_kindle  ...             1\n",
              "0        battery-life_ipod_nano_8gb  ...             1\n",
              "7      updates_garmin_nuvi_255W_gps  ...             1\n",
              "4    satellite_garmin_nuvi_255W_gps  ...             1\n",
              "5                 features_windows7  ...             1\n",
              "6                    speed_windows7  ...             1\n",
              "20       performance_netbook_1005ha  ...             1\n",
              "8        voice_garmin_nuvi_255W_gps  ...             1\n",
              "9   directions_garmin_nuvi_255W_gps  ...             1\n",
              "3          size_asus_netbook_1005ha  ...             1\n",
              "11              video_ipod_nano_8gb  ...             1\n",
              "10      battery-life_netbook_1005ha  ...             1\n",
              "12              sound_ipod_nano_8gb  ...             1\n",
              "13            screen_netbook_1005ha  ...             1\n",
              "14          keyboard_netbook_1005ha  ...             1\n",
              "15    accuracy_garmin_nuvi_255W_gps  ...             1\n",
              "16       speed_garmin_nuvi_255W_gps  ...             1\n",
              "1       screen_garmin_nuvi_255W_gps  ...             1\n",
              "17     display_garmin_nuvi_255W_gps  ...             1\n",
              "2              screen_ipod_nano_8gb  ...             1\n",
              "46    performance_honda_accord_2008  ...             2\n",
              "45   transmission_toyota_camry_2007  ...             2\n",
              "47        quality_toyota_camry_2007  ...             2\n",
              "18        comfort_toyota_camry_2007  ...             2\n",
              "40        comfort_honda_accord_2008  ...             2\n",
              "39        mileage_honda_accord_2008  ...             2\n",
              "31    gas_mileage_toyota_camry_2007  ...             2\n",
              "49       interior_honda_accord_2008  ...             2\n",
              "43          seats_honda_accord_2008  ...             2\n",
              "25       interior_toyota_camry_2007  ...             2\n",
              "\n",
              "[51 rows x 3 columns]"
            ]
          },
          "metadata": {},
          "execution_count": 17
        }
      ]
    },
    {
      "cell_type": "markdown",
      "metadata": {
        "id": "ohqihOiqM2ox"
      },
      "source": [
        "## 3) 군집별 핵심 단어 추출하기\n",
        "\n",
        "각 군집(Cluster)에 속한 문서는 핵심 단어를 주축으로 군집화돼 있을 것이다. 이번에는 각 군집화를 구성하는 핵심 단어가 어떤 것이 있는지 확인한다.\n",
        "\n",
        "KMeans 객체는 각 군집을 구성하는 단어 피처가 군집의 중심(Centeroid)을 기준으로 얼마나 가깝게 위치해 있는지 **clusters_centers_** 라는 속성으로 제공한다. clusters_centers_ 는 배열 값으로 제공되며, 행은 개별 군집을, 열은 개별 피처를 의미한다. 각 배열 내의 값은 개별 군집 내의 상대 위치를 숫자 값으로 표현한 일종의 좌표이다. 예를 들어 cluster_centers[0, 1]은 0번 군집에서 두 번째 피처의 위치 값이다. 바로 앞 예제에서 군집 3개로 생성한 KMeans 객체인 km_cluster에서 clusters_centers_ 속성값을 가져온 뒤 값을 확인한다."
      ]
    },
    {
      "cell_type": "code",
      "metadata": {
        "colab": {
          "base_uri": "https://localhost:8080/"
        },
        "id": "BUX3hhnbNhrh",
        "outputId": "1223af63-dfd7-4526-edc7-f04899f3bd76"
      },
      "source": [
        "cluster_centers = km_cluster.cluster_centers_\n",
        "print('cluster_centers shape :', cluster_centers.shape)\n",
        "print(cluster_centers)"
      ],
      "execution_count": 18,
      "outputs": [
        {
          "output_type": "stream",
          "name": "stdout",
          "text": [
            "cluster_centers shape : (3, 4611)\n",
            "[[0.         0.00099499 0.00174637 ... 0.         0.00183397 0.00144581]\n",
            " [0.01005322 0.         0.         ... 0.00706287 0.         0.        ]\n",
            " [0.         0.00092551 0.         ... 0.         0.         0.        ]]\n"
          ]
        }
      ]
    },
    {
      "cell_type": "markdown",
      "metadata": {
        "id": "hQWX7TCKOdvs"
      },
      "source": [
        "1에 가까울수록 중심과 가까운 값을 의미한다.\n",
        "\n",
        "이제 cluster_centers_ 속성값을 이용해 각 군집별 핵심 단어를 찾아본다. cluster_centers_ 속성은 넘파이의 ndarray이다. ndarray의 argsort()[:,::-1]를 이용하면 cluster_centers 배열 내 값이 큰 순으로 정렬된 위치 인덱스 값을 반환한다(큰 값으로 정렬한 값을 반환하는 것이 아니라 큰 값을 가진 배열 내 위치 인덱스 값을 반환한다. 이 위치 인덱스 값이 필요한 이유는 핵심 단어 피처의 이름을 출력하기 위해서다. 새로운 함수 get_cluster_details( )를 생성해 위에 대한 처리를 담당한다. cluster_centers_ 배열 내에서 가장 값이 큰 데이터의 위치 인덱스를 추출한 뒤, 해당 인덱스를 이용해 핵심 단어 이름과 그때의 상대 위치 값을 추출해 cluster_details라는 Dict 객체 변수에 기록하고 반환하는 것이 get_cluster_details( ) 함수의 주요 로직이다."
      ]
    }
  ]
}